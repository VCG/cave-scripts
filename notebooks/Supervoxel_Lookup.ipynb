{
 "cells": [
  {
   "cell_type": "code",
   "execution_count": 40,
   "metadata": {},
   "outputs": [],
   "source": [
    "from caveclient import CAVEclient, auth\n",
    "from caveclient import chunkedgraph as cg"
   ]
  },
  {
   "cell_type": "code",
   "execution_count": 41,
   "metadata": {},
   "outputs": [],
   "source": [
    "url = \"https://local.brain-wire-test.org\"\n",
    "global_url = \"https://global.brain-wire-test.org/\"\n",
    "datastack = \"h01_c3_flat\"\n",
    "dataset = \"h01_full0_v2\""
   ]
  },
  {
   "cell_type": "code",
   "execution_count": 42,
   "metadata": {},
   "outputs": [],
   "source": [
    "client = CAVEclient(datastack_name=datastack, server_address=global_url)"
   ]
  },
  {
   "cell_type": "code",
   "execution_count": 43,
   "metadata": {},
   "outputs": [],
   "source": [
    "cggraph = cg.ChunkedGraphClient(server_address=url, table_name=dataset, auth_client=auth.AuthClient(token=client.auth.token))"
   ]
  },
  {
   "cell_type": "code",
   "execution_count": 44,
   "metadata": {},
   "outputs": [
    {
     "data": {
      "text/plain": [
       "array([107476988079374403, 107195581553704993, 107547356823552077,\n",
       "       107828832001589442, 107195581486596857, 107266018950251587,\n",
       "       107266018950251564, 107336250456801335, 107336250456801436,\n",
       "       107336250456801406, 107266019017359377, 107265881645515061,\n",
       "       107336250389692754, 107336250389693100, 107336250389693202,\n",
       "       107336250389693111, 107336250389692819, 107336250389693096,\n",
       "       107336250389692966, 107336250389693076, 107336250389693199,\n",
       "       107336250389693099, 107265950364991505, 107336319109169508,\n",
       "       107336319109169443, 107265950297882766, 107406619200979314,\n",
       "       107476988012266023, 107476988012265830, 107406619268087859,\n",
       "       107688094446125197, 107758463257411616, 107758463190302967,\n",
       "       107617656915361874, 107547288104075680, 107547288171184228,\n",
       "       107688025659539724, 107688025726648469, 107688025726648405])"
      ]
     },
     "execution_count": 44,
     "metadata": {},
     "output_type": "execute_result"
    }
   ],
   "source": [
    "root_id = 864691132149604517\n",
    "cggraph.get_leaves(root_id)"
   ]
  }
 ],
 "metadata": {
  "kernelspec": {
   "display_name": "venv",
   "language": "python",
   "name": "python3"
  },
  "language_info": {
   "codemirror_mode": {
    "name": "ipython",
    "version": 3
   },
   "file_extension": ".py",
   "mimetype": "text/x-python",
   "name": "python",
   "nbconvert_exporter": "python",
   "pygments_lexer": "ipython3",
   "version": "3.9.18"
  }
 },
 "nbformat": 4,
 "nbformat_minor": 2
}
