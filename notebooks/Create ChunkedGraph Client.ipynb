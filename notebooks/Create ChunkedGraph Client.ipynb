{
 "cells": [
  {
   "cell_type": "code",
   "execution_count": 1,
   "id": "aefb7256",
   "metadata": {},
   "outputs": [],
   "source": [
    "from caveclient import CAVEclient, chunkedgraph, auth"
   ]
  },
  {
   "cell_type": "markdown",
   "id": "0f6f0add",
   "metadata": {},
   "source": [
    "## Create CAVE Client"
   ]
  },
  {
   "cell_type": "code",
   "execution_count": 2,
   "id": "94b3763c",
   "metadata": {},
   "outputs": [],
   "source": [
    "url = \"https://global.brain-wire-test.org/\"\n",
    "datastack = \"h01_c3_flat\""
   ]
  },
  {
   "cell_type": "code",
   "execution_count": 3,
   "id": "10282f4c",
   "metadata": {},
   "outputs": [],
   "source": [
    "client = CAVEclient(datastack_name=datastack, server_address=url)"
   ]
  },
  {
   "cell_type": "markdown",
   "id": "c910fe5d",
   "metadata": {},
   "source": [
    "## Create ChunkedGraph Client"
   ]
  },
  {
   "cell_type": "code",
   "execution_count": 4,
   "id": "93e4c090",
   "metadata": {},
   "outputs": [],
   "source": [
    "local_url = \"https://local.brain-wire-test.org\"\n",
    "dataset_name = 'h01_full0_v2'"
   ]
  },
  {
   "cell_type": "code",
   "execution_count": 5,
   "id": "4042ccab",
   "metadata": {},
   "outputs": [],
   "source": [
    "cgClient = chunkedgraph.ChunkedGraphClient(server_address=local_url, \n",
    "                                    table_name=dataset_name,\n",
    "                                    auth_client=auth.AuthClient(token=client.auth.token))"
   ]
  },
  {
   "cell_type": "markdown",
   "id": "ddb29161",
   "metadata": {},
   "source": [
    "### Getting Supervoxels for root id"
   ]
  },
  {
   "cell_type": "markdown",
   "id": "9b9cca1a",
   "metadata": {},
   "source": [
    "https://caveclient.readthedocs.io/en/latest/guide/chunkedgraph.html#getting-supervoxels-for-a-root-id"
   ]
  },
  {
   "cell_type": "code",
   "execution_count": 6,
   "id": "b7187d4e",
   "metadata": {},
   "outputs": [
    {
     "data": {
      "text/plain": [
       "array([112544157544743268, 114305779720258890, 117121011261898927, ...,\n",
       "       112403212354453797, 112332843543167343, 112332774823690700])"
      ]
     },
     "execution_count": 6,
     "metadata": {},
     "output_type": "execute_result"
    }
   ],
   "source": [
    "root_id = 864691132444214266\n",
    "cgClient.get_leaves(root_id)"
   ]
  },
  {
   "cell_type": "code",
   "execution_count": null,
   "id": "dc2d7b44",
   "metadata": {},
   "outputs": [],
   "source": []
  }
 ],
 "metadata": {
  "kernelspec": {
   "display_name": "Python 3 (ipykernel)",
   "language": "python",
   "name": "python3"
  },
  "language_info": {
   "codemirror_mode": {
    "name": "ipython",
    "version": 3
   },
   "file_extension": ".py",
   "mimetype": "text/x-python",
   "name": "python",
   "nbconvert_exporter": "python",
   "pygments_lexer": "ipython3",
   "version": "3.9.16"
  }
 },
 "nbformat": 4,
 "nbformat_minor": 5
}
