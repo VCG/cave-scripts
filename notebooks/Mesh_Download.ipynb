{
 "cells": [
  {
   "cell_type": "markdown",
   "metadata": {},
   "source": [
    "## Mesh Download of Proofread Neurons\n",
    "This notebook illustrates how to download meshes of proofread neurons. After proofreading a neuron [here](https://ngl.brain-wire.org/#!middleauth+https://global.brain-wire-test.org/nglstate/api/v1/5640834514944000), look up it's root id and then download the mesh using the function below. Note that this ID will change as further proofreading edits are made. In the future, we will publish \"materialized\" versions of the proofread segmentation, where all IDs will be stable."
   ]
  },
  {
   "cell_type": "code",
   "execution_count": 1,
   "metadata": {},
   "outputs": [
    {
     "name": "stderr",
     "output_type": "stream",
     "text": [
      "/Users/jakobtroidl/Desktop/cave-scripts/venv/lib/python3.9/site-packages/python_jsonschema_objects/__init__.py:113: UserWarning: Schema id not specified. Defaulting to 'self'\n",
      "  warnings.warn(\"Schema id not specified. Defaulting to 'self'\")\n"
     ]
    }
   ],
   "source": [
    "from cloudvolume import CloudVolume"
   ]
  },
  {
   "cell_type": "code",
   "execution_count": 8,
   "metadata": {},
   "outputs": [
    {
     "name": "stderr",
     "output_type": "stream",
     "text": [
      "Downloading Meshes: 100%|██████████| 1/1 [00:01<00:00,  1.37s/it]\n"
     ]
    }
   ],
   "source": [
    "root_id = 864691132320931868\n",
    "path = 'graphene://https://local.brain-wire-test.org/segmentation/1.0/h01_full0_v2', \n",
    "\n",
    "cv = CloudVolume(\n",
    "    path,\n",
    "\tuse_https=True,\n",
    "    progress=True,\n",
    ")\n",
    "\n",
    "cv.mesh.save(root_id) # Saves an OBJ to disk as .ply file"
   ]
  }
 ],
 "metadata": {
  "kernelspec": {
   "display_name": "venv",
   "language": "python",
   "name": "python3"
  },
  "language_info": {
   "codemirror_mode": {
    "name": "ipython",
    "version": 3
   },
   "file_extension": ".py",
   "mimetype": "text/x-python",
   "name": "python",
   "nbconvert_exporter": "python",
   "pygments_lexer": "ipython3",
   "version": "3.9.18"
  }
 },
 "nbformat": 4,
 "nbformat_minor": 2
}
