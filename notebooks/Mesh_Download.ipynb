{
 "cells": [
  {
   "cell_type": "markdown",
   "metadata": {},
   "source": [
    "## Mesh Download of Proofread Neurons\n",
    "This notebook illustrates how to download meshes of proofread neurons. After proofreading a neuron [here](https://ngl.brain-wire.org/#!middleauth+https://global.brain-wire-test.org/nglstate/api/v1/5640834514944000), look up it's root id and then download the mesh using the function below. Note that this ID will change as further proofreading edits are made. In the future, we will publish \"materialized\" versions of the proofread segmentation, where all IDs will be stable."
   ]
  },
  {
   "cell_type": "code",
   "execution_count": 2,
   "metadata": {},
   "outputs": [],
   "source": [
    "from cloudvolume import CloudVolume"
   ]
  },
  {
   "cell_type": "code",
   "execution_count": 6,
   "metadata": {},
   "outputs": [
    {
     "name": "stderr",
     "output_type": "stream",
     "text": [
      "Downloading Meshes: 100%|██████████| 1/1 [00:01<00:00,  1.57s/it]"
     ]
    },
    {
     "name": "stdout",
     "output_type": "stream",
     "text": [
      "Warning: deduplication not currently supported for this layer's variable layered draco meshes\n"
     ]
    },
    {
     "name": "stderr",
     "output_type": "stream",
     "text": [
      "\n"
     ]
    }
   ],
   "source": [
    "root_id = 864691132320931868\n",
    "path = 'graphene://https://local.brain-wire-test.org/segmentation/table/h01_full0_v2'\n",
    "\n",
    "cv = CloudVolume(\n",
    "    cloudpath=path,\n",
    "\tuse_https=True,\n",
    "    progress=True,\n",
    ")\n",
    "\n",
    "cv.mesh.save(root_id) # Saves an OBJ to disk as .ply file"
   ]
  },
  {
   "cell_type": "code",
   "execution_count": 7,
   "metadata": {},
   "outputs": [
    {
     "name": "stderr",
     "output_type": "stream",
     "text": [
      "Downloading Meshes: 100%|██████████| 1/1 [00:05<00:00,  5.21s/it]"
     ]
    },
    {
     "name": "stdout",
     "output_type": "stream",
     "text": [
      "Warning: deduplication not currently supported for this layer's variable layered draco meshes\n"
     ]
    },
    {
     "name": "stderr",
     "output_type": "stream",
     "text": [
      "\n"
     ]
    }
   ],
   "source": [
    "root_id = 864691128615596456\n",
    "path = 'graphene://https://pcgv3local.brain-wire-test.org/segmentation/table/fish1_v250117'\n",
    "\n",
    "cv = CloudVolume(\n",
    "    path,\n",
    "\tuse_https=True,\n",
    "    progress=True,\n",
    ")\n",
    "\n",
    "cv.mesh.save(root_id) # Saves an OBJ to disk as .ply file"
   ]
  },
  {
   "cell_type": "code",
   "execution_count": null,
   "metadata": {},
   "outputs": [],
   "source": []
  }
 ],
 "metadata": {
  "kernelspec": {
   "display_name": "py39env",
   "language": "python",
   "name": "python3"
  },
  "language_info": {
   "codemirror_mode": {
    "name": "ipython",
    "version": 3
   },
   "file_extension": ".py",
   "mimetype": "text/x-python",
   "name": "python",
   "nbconvert_exporter": "python",
   "pygments_lexer": "ipython3",
   "version": "3.9.2"
  }
 },
 "nbformat": 4,
 "nbformat_minor": 2
}
