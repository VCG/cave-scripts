{
 "cells": [
  {
   "cell_type": "markdown",
   "id": "74af455f",
   "metadata": {},
   "source": [
    "## Query Synapses\n",
    "This notebook demonstrates how to query synapses while proofreading is ongoing in Fish1 CAVE. "
   ]
  },
  {
   "cell_type": "code",
   "execution_count": 1,
   "id": "d8596e91",
   "metadata": {},
   "outputs": [],
   "source": [
    "from caveclient import CAVEclient\n",
    "import datetime"
   ]
  },
  {
   "cell_type": "code",
   "execution_count": 2,
   "id": "60da4740",
   "metadata": {},
   "outputs": [],
   "source": [
    "url = \"https://global.brain-wire-test.org/\"\n",
    "datastack = \"fish1_full\""
   ]
  },
  {
   "cell_type": "code",
   "execution_count": 3,
   "id": "ccdd89ab",
   "metadata": {},
   "outputs": [],
   "source": [
    "client = CAVEclient(datastack_name=datastack, server_address=url)"
   ]
  },
  {
   "cell_type": "code",
   "execution_count": 8,
   "id": "e68ab38d",
   "metadata": {},
   "outputs": [
    {
     "name": "stdout",
     "output_type": "stream",
     "text": [
      "Mat version:  282\n"
     ]
    },
    {
     "data": {
      "text/plain": [
       "['synapses_axax', 'synapses_axde', 'soma_ids_locations']"
      ]
     },
     "execution_count": 8,
     "metadata": {},
     "output_type": "execute_result"
    }
   ],
   "source": [
    "client.materialize.get_versions()\n",
    "print(\"Mat version: \", client.materialize.version)\n",
    "client.materialize.get_tables()"
   ]
  },
  {
   "cell_type": "markdown",
   "id": "1a23545d",
   "metadata": {},
   "source": [
    "Fish1 has two synapse tables. `synapses_axax` is the synaptic connections between axon and axon. `synapses_axde` is the synaptic connections between axon and dendrite."
   ]
  },
  {
   "cell_type": "code",
   "execution_count": 18,
   "id": "ab909b47",
   "metadata": {},
   "outputs": [
    {
     "data": {
      "text/html": [
       "<div>\n",
       "<style scoped>\n",
       "    .dataframe tbody tr th:only-of-type {\n",
       "        vertical-align: middle;\n",
       "    }\n",
       "\n",
       "    .dataframe tbody tr th {\n",
       "        vertical-align: top;\n",
       "    }\n",
       "\n",
       "    .dataframe thead th {\n",
       "        text-align: right;\n",
       "    }\n",
       "</style>\n",
       "<table border=\"1\" class=\"dataframe\">\n",
       "  <thead>\n",
       "    <tr style=\"text-align: right;\">\n",
       "      <th></th>\n",
       "      <th>id</th>\n",
       "      <th>created</th>\n",
       "      <th>superceded_id</th>\n",
       "      <th>valid</th>\n",
       "      <th>size</th>\n",
       "      <th>pre_pt_supervoxel_id</th>\n",
       "      <th>pre_pt_root_id</th>\n",
       "      <th>post_pt_supervoxel_id</th>\n",
       "      <th>post_pt_root_id</th>\n",
       "      <th>pre_pt_position</th>\n",
       "      <th>post_pt_position</th>\n",
       "      <th>ctr_pt_position</th>\n",
       "    </tr>\n",
       "  </thead>\n",
       "  <tbody>\n",
       "    <tr>\n",
       "      <th>0</th>\n",
       "      <td>4099086</td>\n",
       "      <td>2024-12-06 22:55:39.622547+00:00</td>\n",
       "      <td>NaN</td>\n",
       "      <td>t</td>\n",
       "      <td>NaN</td>\n",
       "      <td>81915199031870126</td>\n",
       "      <td>864691128625512743</td>\n",
       "      <td>81915199098978507</td>\n",
       "      <td>864691128630396036</td>\n",
       "      <td>[35985, 22435, 4350]</td>\n",
       "      <td>[36000, 22443, 4358]</td>\n",
       "      <td>[nan, nan, nan]</td>\n",
       "    </tr>\n",
       "    <tr>\n",
       "      <th>1</th>\n",
       "      <td>2260090</td>\n",
       "      <td>2024-12-06 22:52:57.309128+00:00</td>\n",
       "      <td>NaN</td>\n",
       "      <td>t</td>\n",
       "      <td>NaN</td>\n",
       "      <td>81985361617617127</td>\n",
       "      <td>864691128598606952</td>\n",
       "      <td>82055730361794635</td>\n",
       "      <td>864691128630396036</td>\n",
       "      <td>[36338, 21730, 4228]</td>\n",
       "      <td>[36378, 21707, 4236]</td>\n",
       "      <td>[nan, nan, nan]</td>\n",
       "    </tr>\n",
       "    <tr>\n",
       "      <th>2</th>\n",
       "      <td>245435</td>\n",
       "      <td>2024-12-06 22:49:52.924402+00:00</td>\n",
       "      <td>NaN</td>\n",
       "      <td>t</td>\n",
       "      <td>NaN</td>\n",
       "      <td>81915199031870126</td>\n",
       "      <td>864691128625512743</td>\n",
       "      <td>81915199031870961</td>\n",
       "      <td>864691128630396036</td>\n",
       "      <td>[36042, 22461, 4338]</td>\n",
       "      <td>[36044, 22474, 4341]</td>\n",
       "      <td>[nan, nan, nan]</td>\n",
       "    </tr>\n",
       "    <tr>\n",
       "      <th>3</th>\n",
       "      <td>6661969</td>\n",
       "      <td>2024-12-06 22:59:54.846946+00:00</td>\n",
       "      <td>NaN</td>\n",
       "      <td>t</td>\n",
       "      <td>NaN</td>\n",
       "      <td>82055936654443807</td>\n",
       "      <td>864691128626271119</td>\n",
       "      <td>82055936654443460</td>\n",
       "      <td>864691128630396036</td>\n",
       "      <td>[36472, 22514, 4529]</td>\n",
       "      <td>[36480, 22520, 4520]</td>\n",
       "      <td>[nan, nan, nan]</td>\n",
       "    </tr>\n",
       "    <tr>\n",
       "      <th>4</th>\n",
       "      <td>9416749</td>\n",
       "      <td>2024-12-06 23:04:12.539701+00:00</td>\n",
       "      <td>NaN</td>\n",
       "      <td>t</td>\n",
       "      <td>NaN</td>\n",
       "      <td>81985567776048290</td>\n",
       "      <td>864691128626195731</td>\n",
       "      <td>81985567776048850</td>\n",
       "      <td>864691128630396036</td>\n",
       "      <td>[36250, 22497, 4298]</td>\n",
       "      <td>[36256, 22460, 4303]</td>\n",
       "      <td>[nan, nan, nan]</td>\n",
       "    </tr>\n",
       "  </tbody>\n",
       "</table>\n",
       "</div>"
      ],
      "text/plain": [
       "        id                          created  superceded_id valid  size  \\\n",
       "0  4099086 2024-12-06 22:55:39.622547+00:00            NaN     t   NaN   \n",
       "1  2260090 2024-12-06 22:52:57.309128+00:00            NaN     t   NaN   \n",
       "2   245435 2024-12-06 22:49:52.924402+00:00            NaN     t   NaN   \n",
       "3  6661969 2024-12-06 22:59:54.846946+00:00            NaN     t   NaN   \n",
       "4  9416749 2024-12-06 23:04:12.539701+00:00            NaN     t   NaN   \n",
       "\n",
       "   pre_pt_supervoxel_id      pre_pt_root_id  post_pt_supervoxel_id  \\\n",
       "0     81915199031870126  864691128625512743      81915199098978507   \n",
       "1     81985361617617127  864691128598606952      82055730361794635   \n",
       "2     81915199031870126  864691128625512743      81915199031870961   \n",
       "3     82055936654443807  864691128626271119      82055936654443460   \n",
       "4     81985567776048290  864691128626195731      81985567776048850   \n",
       "\n",
       "      post_pt_root_id       pre_pt_position      post_pt_position  \\\n",
       "0  864691128630396036  [35985, 22435, 4350]  [36000, 22443, 4358]   \n",
       "1  864691128630396036  [36338, 21730, 4228]  [36378, 21707, 4236]   \n",
       "2  864691128630396036  [36042, 22461, 4338]  [36044, 22474, 4341]   \n",
       "3  864691128630396036  [36472, 22514, 4529]  [36480, 22520, 4520]   \n",
       "4  864691128630396036  [36250, 22497, 4298]  [36256, 22460, 4303]   \n",
       "\n",
       "   ctr_pt_position  \n",
       "0  [nan, nan, nan]  \n",
       "1  [nan, nan, nan]  \n",
       "2  [nan, nan, nan]  \n",
       "3  [nan, nan, nan]  \n",
       "4  [nan, nan, nan]  "
      ]
     },
     "execution_count": 18,
     "metadata": {},
     "output_type": "execute_result"
    }
   ],
   "source": [
    "root_id = 864691128630396036\n",
    "axax = client.materialize.query_table(table=\"synapses_axax\",\n",
    "                                    filter_equal_dict= {'post_pt_root_id':root_id})\n",
    "axax.head()"
   ]
  },
  {
   "cell_type": "code",
   "execution_count": 16,
   "id": "31812bf8",
   "metadata": {},
   "outputs": [
    {
     "data": {
      "text/html": [
       "<div>\n",
       "<style scoped>\n",
       "    .dataframe tbody tr th:only-of-type {\n",
       "        vertical-align: middle;\n",
       "    }\n",
       "\n",
       "    .dataframe tbody tr th {\n",
       "        vertical-align: top;\n",
       "    }\n",
       "\n",
       "    .dataframe thead th {\n",
       "        text-align: right;\n",
       "    }\n",
       "</style>\n",
       "<table border=\"1\" class=\"dataframe\">\n",
       "  <thead>\n",
       "    <tr style=\"text-align: right;\">\n",
       "      <th></th>\n",
       "      <th>id</th>\n",
       "      <th>created</th>\n",
       "      <th>superceded_id</th>\n",
       "      <th>valid</th>\n",
       "      <th>size</th>\n",
       "      <th>pre_pt_supervoxel_id</th>\n",
       "      <th>pre_pt_root_id</th>\n",
       "      <th>post_pt_supervoxel_id</th>\n",
       "      <th>post_pt_root_id</th>\n",
       "      <th>pre_pt_position</th>\n",
       "      <th>post_pt_position</th>\n",
       "      <th>ctr_pt_position</th>\n",
       "    </tr>\n",
       "  </thead>\n",
       "  <tbody>\n",
       "  </tbody>\n",
       "</table>\n",
       "</div>"
      ],
      "text/plain": [
       "Empty DataFrame\n",
       "Columns: [id, created, superceded_id, valid, size, pre_pt_supervoxel_id, pre_pt_root_id, post_pt_supervoxel_id, post_pt_root_id, pre_pt_position, post_pt_position, ctr_pt_position]\n",
       "Index: []"
      ]
     },
     "execution_count": 16,
     "metadata": {},
     "output_type": "execute_result"
    }
   ],
   "source": [
    "axde = client.materialize.query_table(table=\"synapses_axde\",\n",
    "                                    filter_equal_dict= {'post_pt_root_id':root_id})\n",
    "axde.head()"
   ]
  },
  {
   "cell_type": "markdown",
   "id": "7b43892a",
   "metadata": {},
   "source": [
    "### Live Synapse Queries\n",
    "As proofreading is ongoing, neuron IDs change. If you want to query the most recent or any historic data, you can use the live synapse queries."
   ]
  },
  {
   "cell_type": "code",
   "execution_count": 19,
   "id": "a2083761",
   "metadata": {},
   "outputs": [
    {
     "name": "stdout",
     "output_type": "stream",
     "text": [
      "[ True]\n",
      "[864691128630396036]\n"
     ]
    }
   ],
   "source": [
    "# check if root ID is the most recent root ID\n",
    "now = datetime.datetime.now(datetime.timezone.utc)\n",
    "is_latest = client.chunkedgraph.is_latest_roots([root_id], timestamp=now)\n",
    "latest_id = client.chunkedgraph.get_latest_roots(root_id, timestamp=now)\n",
    "print(is_latest) \n",
    "print(latest_id)"
   ]
  },
  {
   "cell_type": "code",
   "execution_count": 21,
   "id": "9d24d738",
   "metadata": {},
   "outputs": [
    {
     "name": "stdout",
     "output_type": "stream",
     "text": [
      "38\n"
     ]
    },
    {
     "data": {
      "text/html": [
       "<div>\n",
       "<style scoped>\n",
       "    .dataframe tbody tr th:only-of-type {\n",
       "        vertical-align: middle;\n",
       "    }\n",
       "\n",
       "    .dataframe tbody tr th {\n",
       "        vertical-align: top;\n",
       "    }\n",
       "\n",
       "    .dataframe thead th {\n",
       "        text-align: right;\n",
       "    }\n",
       "</style>\n",
       "<table border=\"1\" class=\"dataframe\">\n",
       "  <thead>\n",
       "    <tr style=\"text-align: right;\">\n",
       "      <th></th>\n",
       "      <th>id</th>\n",
       "      <th>created</th>\n",
       "      <th>superceded_id</th>\n",
       "      <th>valid</th>\n",
       "      <th>size</th>\n",
       "      <th>pre_pt_supervoxel_id</th>\n",
       "      <th>pre_pt_root_id</th>\n",
       "      <th>post_pt_supervoxel_id</th>\n",
       "      <th>post_pt_root_id</th>\n",
       "      <th>pre_pt_position</th>\n",
       "      <th>post_pt_position</th>\n",
       "      <th>ctr_pt_position</th>\n",
       "    </tr>\n",
       "  </thead>\n",
       "  <tbody>\n",
       "    <tr>\n",
       "      <th>0</th>\n",
       "      <td>2260090</td>\n",
       "      <td>2024-12-06 22:52:57.309128+00:00</td>\n",
       "      <td>NaN</td>\n",
       "      <td>t</td>\n",
       "      <td>NaN</td>\n",
       "      <td>81985361617617127</td>\n",
       "      <td>864691128598606952</td>\n",
       "      <td>82055730361794635</td>\n",
       "      <td>864691128630396036</td>\n",
       "      <td>[36338, 21730, 4228]</td>\n",
       "      <td>[36378, 21707, 4236]</td>\n",
       "      <td>[nan, nan, nan]</td>\n",
       "    </tr>\n",
       "    <tr>\n",
       "      <th>1</th>\n",
       "      <td>245435</td>\n",
       "      <td>2024-12-06 22:49:52.924402+00:00</td>\n",
       "      <td>NaN</td>\n",
       "      <td>t</td>\n",
       "      <td>NaN</td>\n",
       "      <td>81915199031870126</td>\n",
       "      <td>864691128625512743</td>\n",
       "      <td>81915199031870961</td>\n",
       "      <td>864691128630396036</td>\n",
       "      <td>[36042, 22461, 4338]</td>\n",
       "      <td>[36044, 22474, 4341]</td>\n",
       "      <td>[nan, nan, nan]</td>\n",
       "    </tr>\n",
       "    <tr>\n",
       "      <th>2</th>\n",
       "      <td>4099086</td>\n",
       "      <td>2024-12-06 22:55:39.622547+00:00</td>\n",
       "      <td>NaN</td>\n",
       "      <td>t</td>\n",
       "      <td>NaN</td>\n",
       "      <td>81915199031870126</td>\n",
       "      <td>864691128625512743</td>\n",
       "      <td>81915199098978507</td>\n",
       "      <td>864691128630396036</td>\n",
       "      <td>[35985, 22435, 4350]</td>\n",
       "      <td>[36000, 22443, 4358]</td>\n",
       "      <td>[nan, nan, nan]</td>\n",
       "    </tr>\n",
       "    <tr>\n",
       "      <th>3</th>\n",
       "      <td>9416749</td>\n",
       "      <td>2024-12-06 23:04:12.539701+00:00</td>\n",
       "      <td>NaN</td>\n",
       "      <td>t</td>\n",
       "      <td>NaN</td>\n",
       "      <td>81985567776048290</td>\n",
       "      <td>864691128626195731</td>\n",
       "      <td>81985567776048850</td>\n",
       "      <td>864691128630396036</td>\n",
       "      <td>[36250, 22497, 4298]</td>\n",
       "      <td>[36256, 22460, 4303]</td>\n",
       "      <td>[nan, nan, nan]</td>\n",
       "    </tr>\n",
       "    <tr>\n",
       "      <th>4</th>\n",
       "      <td>6661969</td>\n",
       "      <td>2024-12-06 22:59:54.846946+00:00</td>\n",
       "      <td>NaN</td>\n",
       "      <td>t</td>\n",
       "      <td>NaN</td>\n",
       "      <td>82055936654443807</td>\n",
       "      <td>864691128626271119</td>\n",
       "      <td>82055936654443460</td>\n",
       "      <td>864691128630396036</td>\n",
       "      <td>[36472, 22514, 4529]</td>\n",
       "      <td>[36480, 22520, 4520]</td>\n",
       "      <td>[nan, nan, nan]</td>\n",
       "    </tr>\n",
       "  </tbody>\n",
       "</table>\n",
       "</div>"
      ],
      "text/plain": [
       "        id                          created  superceded_id valid  size  \\\n",
       "0  2260090 2024-12-06 22:52:57.309128+00:00            NaN     t   NaN   \n",
       "1   245435 2024-12-06 22:49:52.924402+00:00            NaN     t   NaN   \n",
       "2  4099086 2024-12-06 22:55:39.622547+00:00            NaN     t   NaN   \n",
       "3  9416749 2024-12-06 23:04:12.539701+00:00            NaN     t   NaN   \n",
       "4  6661969 2024-12-06 22:59:54.846946+00:00            NaN     t   NaN   \n",
       "\n",
       "   pre_pt_supervoxel_id      pre_pt_root_id  post_pt_supervoxel_id  \\\n",
       "0     81985361617617127  864691128598606952      82055730361794635   \n",
       "1     81915199031870126  864691128625512743      81915199031870961   \n",
       "2     81915199031870126  864691128625512743      81915199098978507   \n",
       "3     81985567776048290  864691128626195731      81985567776048850   \n",
       "4     82055936654443807  864691128626271119      82055936654443460   \n",
       "\n",
       "      post_pt_root_id       pre_pt_position      post_pt_position  \\\n",
       "0  864691128630396036  [36338, 21730, 4228]  [36378, 21707, 4236]   \n",
       "1  864691128630396036  [36042, 22461, 4338]  [36044, 22474, 4341]   \n",
       "2  864691128630396036  [35985, 22435, 4350]  [36000, 22443, 4358]   \n",
       "3  864691128630396036  [36250, 22497, 4298]  [36256, 22460, 4303]   \n",
       "4  864691128630396036  [36472, 22514, 4529]  [36480, 22520, 4520]   \n",
       "\n",
       "   ctr_pt_position  \n",
       "0  [nan, nan, nan]  \n",
       "1  [nan, nan, nan]  \n",
       "2  [nan, nan, nan]  \n",
       "3  [nan, nan, nan]  \n",
       "4  [nan, nan, nan]  "
      ]
     },
     "execution_count": 21,
     "metadata": {},
     "output_type": "execute_result"
    }
   ],
   "source": [
    "df=client.materialize.query_table(table=\"synapses_axax\", # or \"synapses_axde\"\n",
    "                                  timestamp = datetime.datetime.now(datetime.timezone.utc),\n",
    "                                  filter_equal_dict = {'post_pt_root_id': latest_id[0]})\n",
    "print(len(df))\n",
    "df.head()"
   ]
  }
 ],
 "metadata": {
  "kernelspec": {
   "display_name": "py39env",
   "language": "python",
   "name": "python3"
  },
  "language_info": {
   "codemirror_mode": {
    "name": "ipython",
    "version": 3
   },
   "file_extension": ".py",
   "mimetype": "text/x-python",
   "name": "python",
   "nbconvert_exporter": "python",
   "pygments_lexer": "ipython3",
   "version": "3.9.2"
  }
 },
 "nbformat": 4,
 "nbformat_minor": 5
}
