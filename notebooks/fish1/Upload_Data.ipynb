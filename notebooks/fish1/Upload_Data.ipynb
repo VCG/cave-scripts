{
 "cells": [
  {
   "cell_type": "markdown",
   "metadata": {},
   "source": [
    "# Uploading Custom Annotation Data to CAVE"
   ]
  },
  {
   "cell_type": "code",
   "execution_count": 1,
   "metadata": {
    "id": "X1A9BoWNMjdT"
   },
   "outputs": [],
   "source": [
    "from caveclient import CAVEclient\n",
    "import numpy as np\n",
    "import pandas as pd"
   ]
  },
  {
   "cell_type": "code",
   "execution_count": 4,
   "metadata": {
    "id": "Msxb8H6vrHaA"
   },
   "outputs": [],
   "source": [
    "annoDf = pd.read_csv('../../data/cell_bodies_sorted_by_neurite_path_with_location.csv')"
   ]
  },
  {
   "cell_type": "code",
   "execution_count": 5,
   "metadata": {
    "colab": {
     "base_uri": "https://localhost:8080/",
     "height": 270
    },
    "id": "DFDhaWkirQo0",
    "outputId": "3b420c0c-c753-4c9f-e13d-d6b7abb84d39"
   },
   "outputs": [
    {
     "data": {
      "text/html": [
       "<div>\n",
       "<style scoped>\n",
       "    .dataframe tbody tr th:only-of-type {\n",
       "        vertical-align: middle;\n",
       "    }\n",
       "\n",
       "    .dataframe tbody tr th {\n",
       "        vertical-align: top;\n",
       "    }\n",
       "\n",
       "    .dataframe thead th {\n",
       "        text-align: right;\n",
       "    }\n",
       "</style>\n",
       "<table border=\"1\" class=\"dataframe\">\n",
       "  <thead>\n",
       "    <tr style=\"text-align: right;\">\n",
       "      <th></th>\n",
       "      <th>lores_id</th>\n",
       "      <th>hires_id_agglo</th>\n",
       "      <th>path_length_um</th>\n",
       "      <th>x</th>\n",
       "      <th>y</th>\n",
       "      <th>z</th>\n",
       "    </tr>\n",
       "  </thead>\n",
       "  <tbody>\n",
       "    <tr>\n",
       "      <th>0</th>\n",
       "      <td>29371</td>\n",
       "      <td>15960395825</td>\n",
       "      <td>1568843.0</td>\n",
       "      <td>113536</td>\n",
       "      <td>28800</td>\n",
       "      <td>6392</td>\n",
       "    </tr>\n",
       "    <tr>\n",
       "      <th>1</th>\n",
       "      <td>18157</td>\n",
       "      <td>15960395825</td>\n",
       "      <td>1568843.0</td>\n",
       "      <td>114560</td>\n",
       "      <td>28544</td>\n",
       "      <td>6389</td>\n",
       "    </tr>\n",
       "    <tr>\n",
       "      <th>2</th>\n",
       "      <td>63875</td>\n",
       "      <td>15960395825</td>\n",
       "      <td>1568843.0</td>\n",
       "      <td>107328</td>\n",
       "      <td>34944</td>\n",
       "      <td>6508</td>\n",
       "    </tr>\n",
       "    <tr>\n",
       "      <th>3</th>\n",
       "      <td>99749</td>\n",
       "      <td>15960395825</td>\n",
       "      <td>1568843.0</td>\n",
       "      <td>100544</td>\n",
       "      <td>29184</td>\n",
       "      <td>6939</td>\n",
       "    </tr>\n",
       "    <tr>\n",
       "      <th>4</th>\n",
       "      <td>33793</td>\n",
       "      <td>15960395825</td>\n",
       "      <td>1568843.0</td>\n",
       "      <td>98816</td>\n",
       "      <td>36480</td>\n",
       "      <td>6710</td>\n",
       "    </tr>\n",
       "  </tbody>\n",
       "</table>\n",
       "</div>"
      ],
      "text/plain": [
       "   lores_id  hires_id_agglo  path_length_um       x      y     z\n",
       "0     29371     15960395825       1568843.0  113536  28800  6392\n",
       "1     18157     15960395825       1568843.0  114560  28544  6389\n",
       "2     63875     15960395825       1568843.0  107328  34944  6508\n",
       "3     99749     15960395825       1568843.0  100544  29184  6939\n",
       "4     33793     15960395825       1568843.0   98816  36480  6710"
      ]
     },
     "execution_count": 5,
     "metadata": {},
     "output_type": "execute_result"
    }
   ],
   "source": [
    "annoDf.head()"
   ]
  },
  {
   "cell_type": "code",
   "execution_count": 6,
   "metadata": {
    "colab": {
     "base_uri": "https://localhost:8080/"
    },
    "id": "wErNnbblmK1I",
    "outputId": "bf8db315-f44e-4e14-e6f5-7ce21be13791"
   },
   "outputs": [
    {
     "data": {
      "text/plain": [
       "(187052, 6)"
      ]
     },
     "execution_count": 6,
     "metadata": {},
     "output_type": "execute_result"
    }
   ],
   "source": [
    "annoDf.shape"
   ]
  },
  {
   "cell_type": "markdown",
   "metadata": {
    "id": "4ZgDGbgXJjgZ"
   },
   "source": [
    "# Create data for soma_ids_locations annotation table"
   ]
  },
  {
   "cell_type": "code",
   "execution_count": 7,
   "metadata": {
    "id": "bd8O5sJk39G7"
   },
   "outputs": [],
   "source": [
    "df = annoDf.copy()"
   ]
  },
  {
   "cell_type": "code",
   "execution_count": 24,
   "metadata": {
    "id": "qJiYiQ5_rTYJ"
   },
   "outputs": [],
   "source": [
    "# upload random annotations\n",
    "nrow = df.shape[0]\n",
    "pt_position = df.apply(lambda row : np.array([row['x'], row['y'], row['z']]), axis=1)\n",
    "\n",
    "data = pd.DataFrame.from_dict({\n",
    "    'valid': np.repeat(True, nrow),\n",
    "    'pt_position': pt_position,\n",
    "    'tag': df.lores_id.astype(str).tolist(),\n",
    "})"
   ]
  },
  {
   "cell_type": "code",
   "execution_count": 22,
   "metadata": {},
   "outputs": [
    {
     "data": {
      "text/plain": [
       "187052"
      ]
     },
     "execution_count": 22,
     "metadata": {},
     "output_type": "execute_result"
    }
   ],
   "source": [
    "len(data.id.unique())"
   ]
  },
  {
   "cell_type": "code",
   "execution_count": 13,
   "metadata": {},
   "outputs": [
    {
     "data": {
      "text/plain": [
       "(187052, 4)"
      ]
     },
     "execution_count": 13,
     "metadata": {},
     "output_type": "execute_result"
    }
   ],
   "source": [
    "data.shape"
   ]
  },
  {
   "cell_type": "markdown",
   "metadata": {
    "id": "wv9FQ4mqiNru"
   },
   "source": [
    "# CAVEclient"
   ]
  },
  {
   "cell_type": "code",
   "execution_count": 14,
   "metadata": {
    "id": "9FjgR8bxPI2K"
   },
   "outputs": [],
   "source": [
    "url = \"https://global.brain-wire-test.org/\"\n",
    "datastack = \"fish1_full\""
   ]
  },
  {
   "cell_type": "code",
   "execution_count": 15,
   "metadata": {
    "colab": {
     "base_uri": "https://localhost:8080/"
    },
    "id": "7RJI8vz7PLF8",
    "outputId": "54e3014c-45bf-4206-81cb-2b99389a174b"
   },
   "outputs": [],
   "source": [
    "client = CAVEclient(datastack_name=datastack, server_address=url)"
   ]
  },
  {
   "cell_type": "code",
   "execution_count": 16,
   "metadata": {
    "colab": {
     "base_uri": "https://localhost:8080/"
    },
    "id": "xgBR6GFVP3S1",
    "outputId": "de723a5f-c698-4e36-9e5a-3e2cd09b1f86"
   },
   "outputs": [
    {
     "data": {
      "text/plain": [
       "['h01_c3_flat', 'fish1_full', 'fish1_test']"
      ]
     },
     "execution_count": 16,
     "metadata": {},
     "output_type": "execute_result"
    }
   ],
   "source": [
    "client.info.get_datastacks()"
   ]
  },
  {
   "cell_type": "code",
   "execution_count": 17,
   "metadata": {
    "colab": {
     "base_uri": "https://localhost:8080/"
    },
    "id": "SZOWBNUQPL4M",
    "outputId": "0f74678e-205c-4b3b-b055-806d8d42f7cf"
   },
   "outputs": [
    {
     "data": {
      "text/plain": [
       "['synapses_axax', 'synapses_axde', 'soma_ids_locations']"
      ]
     },
     "execution_count": 17,
     "metadata": {},
     "output_type": "execute_result"
    }
   ],
   "source": [
    "# get existing tables\n",
    "all_tables = client.annotation.get_tables()\n",
    "all_tables"
   ]
  },
  {
   "cell_type": "markdown",
   "metadata": {
    "id": "1YXX2WczUGdo"
   },
   "source": [
    "## Upload data"
   ]
  },
  {
   "cell_type": "code",
   "execution_count": null,
   "metadata": {
    "id": "SbQgGW50ULX8"
   },
   "outputs": [],
   "source": [
    "import time\n",
    "chunk_size = 10000  # Number of rows per chunk\n",
    "i = 180000 # to end of the table\n",
    "\n",
    "# for i in range(start, len(data), chunk_size):\n",
    "chunk = data.iloc[i:i+chunk_size]\n",
    "client.annotation.post_annotation_df(table_name='soma_ids_locations',\n",
    "                                     df = chunk,\n",
    "                                     position_columns=[\"pt_position\"])\n",
    "#     time.sleep(10)"
   ]
  },
  {
   "cell_type": "markdown",
   "metadata": {
    "id": "Yac1rBadUIt4"
   },
   "source": [
    "## Get Data"
   ]
  },
  {
   "cell_type": "code",
   "execution_count": 45,
   "metadata": {
    "colab": {
     "base_uri": "https://localhost:8080/"
    },
    "id": "EPgJfyWQ_TFi",
    "outputId": "0c7ded23-be3f-48ec-d07a-a7f6bd98ffae"
   },
   "outputs": [
    {
     "data": {
      "text/plain": [
       "[{'valid': True,\n",
       "  'pt_position': [113536, 28800, 6392],\n",
       "  'tag': '29371',\n",
       "  'deleted': 'None',\n",
       "  'id': 2,\n",
       "  'superceded_id': None,\n",
       "  'created': '2025-04-04 20:09:33.650068'}]"
      ]
     },
     "execution_count": 45,
     "metadata": {},
     "output_type": "execute_result"
    }
   ],
   "source": [
    "client.annotation.get_annotation(table_name=\"soma_ids_locations\",\n",
    "                                 annotation_ids=[2])"
   ]
  },
  {
   "cell_type": "code",
   "execution_count": 47,
   "metadata": {
    "colab": {
     "base_uri": "https://localhost:8080/"
    },
    "id": "DOBfTbZS83CF",
    "outputId": "18d0f34a-e8f8-4925-aa74-0e9a9eadebd8"
   },
   "outputs": [
    {
     "data": {
      "text/plain": [
       "[{'valid': True,\n",
       "  'pt_position': [60032, 31104, 799],\n",
       "  'tag': '43563',\n",
       "  'created': '2025-04-04 20:17:37.953920',\n",
       "  'superceded_id': None,\n",
       "  'id': 187052,\n",
       "  'deleted': 'None'}]"
      ]
     },
     "execution_count": 47,
     "metadata": {},
     "output_type": "execute_result"
    }
   ],
   "source": [
    "client.annotation.get_annotation(table_name=\"soma_ids_locations\",\n",
    "                                 annotation_ids=[187052])"
   ]
  },
  {
   "cell_type": "markdown",
   "metadata": {},
   "source": [
    "## Get Ready your Annotation Table to be Materialized"
   ]
  },
  {
   "cell_type": "markdown",
   "metadata": {},
   "source": [
    "The new annotation table needs ingest_annotations workflow to be materialized. The workflow can be triggered in [Materialization Engine API doc](https://pcgv3local.brain-wire-test.org/materialize/api/doc). Run the ingest_annotations endpoint. "
   ]
  },
  {
   "cell_type": "markdown",
   "metadata": {},
   "source": []
  }
 ],
 "metadata": {
  "colab": {
   "provenance": []
  },
  "kernelspec": {
   "display_name": "cave_py311",
   "language": "python",
   "name": "python3"
  },
  "language_info": {
   "codemirror_mode": {
    "name": "ipython",
    "version": 3
   },
   "file_extension": ".py",
   "mimetype": "text/x-python",
   "name": "python",
   "nbconvert_exporter": "python",
   "pygments_lexer": "ipython3",
   "version": "3.11.9"
  }
 },
 "nbformat": 4,
 "nbformat_minor": 4
}
