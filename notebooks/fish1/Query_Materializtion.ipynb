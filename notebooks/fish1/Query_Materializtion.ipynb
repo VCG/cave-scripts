{
 "cells": [
  {
   "cell_type": "markdown",
   "id": "74af455f",
   "metadata": {},
   "source": [
    "## Query materialized annotation tables"
   ]
  },
  {
   "cell_type": "code",
   "execution_count": 9,
   "id": "d8596e91",
   "metadata": {},
   "outputs": [],
   "source": [
    "from caveclient import CAVEclient"
   ]
  },
  {
   "cell_type": "code",
   "execution_count": 10,
   "id": "60da4740",
   "metadata": {},
   "outputs": [],
   "source": [
    "url = \"https://global.brain-wire-test.org/\"\n",
    "datastack = \"fish1_full\""
   ]
  },
  {
   "cell_type": "code",
   "execution_count": 11,
   "id": "ccdd89ab",
   "metadata": {},
   "outputs": [],
   "source": [
    "client = CAVEclient(datastack_name=datastack, server_address=url)"
   ]
  },
  {
   "cell_type": "code",
   "execution_count": 13,
   "id": "e68ab38d",
   "metadata": {},
   "outputs": [
    {
     "data": {
      "text/plain": [
       "[219, 232, 234, 236, 237, 238]"
      ]
     },
     "execution_count": 13,
     "metadata": {},
     "output_type": "execute_result"
    }
   ],
   "source": [
    "client.materialize.get_versions()"
   ]
  },
  {
   "cell_type": "code",
   "execution_count": 14,
   "id": "4c8a1abc",
   "metadata": {},
   "outputs": [
    {
     "data": {
      "text/plain": [
       "238"
      ]
     },
     "execution_count": 14,
     "metadata": {},
     "output_type": "execute_result"
    }
   ],
   "source": [
    "client.materialize.version"
   ]
  },
  {
   "cell_type": "code",
   "execution_count": 15,
   "id": "9038ac54",
   "metadata": {},
   "outputs": [
    {
     "data": {
      "text/plain": [
       "['synapses_axax', 'synapses_axde', 'soma_ids_locations']"
      ]
     },
     "execution_count": 15,
     "metadata": {},
     "output_type": "execute_result"
    }
   ],
   "source": [
    "# get all available tables\n",
    "client.materialize.get_tables()"
   ]
  },
  {
   "cell_type": "code",
   "execution_count": 16,
   "id": "737c4789",
   "metadata": {},
   "outputs": [
    {
     "name": "stderr",
     "output_type": "stream",
     "text": [
      "201 - \"Limited query to 10 rows\n"
     ]
    },
    {
     "data": {
      "text/html": [
       "<div>\n",
       "<style scoped>\n",
       "    .dataframe tbody tr th:only-of-type {\n",
       "        vertical-align: middle;\n",
       "    }\n",
       "\n",
       "    .dataframe tbody tr th {\n",
       "        vertical-align: top;\n",
       "    }\n",
       "\n",
       "    .dataframe thead th {\n",
       "        text-align: right;\n",
       "    }\n",
       "</style>\n",
       "<table border=\"1\" class=\"dataframe\">\n",
       "  <thead>\n",
       "    <tr style=\"text-align: right;\">\n",
       "      <th></th>\n",
       "      <th>id</th>\n",
       "      <th>created</th>\n",
       "      <th>superceded_id</th>\n",
       "      <th>valid</th>\n",
       "      <th>tag</th>\n",
       "      <th>pt_supervoxel_id</th>\n",
       "      <th>pt_root_id</th>\n",
       "      <th>pt_position</th>\n",
       "    </tr>\n",
       "  </thead>\n",
       "  <tbody>\n",
       "    <tr>\n",
       "      <th>0</th>\n",
       "      <td>2</td>\n",
       "      <td>2025-04-04 20:09:33.650068+00:00</td>\n",
       "      <td>NaN</td>\n",
       "      <td>t</td>\n",
       "      <td>29371</td>\n",
       "      <td>0</td>\n",
       "      <td>0</td>\n",
       "      <td>[113536, 28800, 6392]</td>\n",
       "    </tr>\n",
       "    <tr>\n",
       "      <th>1</th>\n",
       "      <td>3</td>\n",
       "      <td>2025-04-04 20:09:33.650790+00:00</td>\n",
       "      <td>NaN</td>\n",
       "      <td>t</td>\n",
       "      <td>18157</td>\n",
       "      <td>0</td>\n",
       "      <td>0</td>\n",
       "      <td>[114560, 28544, 6389]</td>\n",
       "    </tr>\n",
       "    <tr>\n",
       "      <th>2</th>\n",
       "      <td>4</td>\n",
       "      <td>2025-04-04 20:09:33.651433+00:00</td>\n",
       "      <td>NaN</td>\n",
       "      <td>t</td>\n",
       "      <td>63875</td>\n",
       "      <td>86769337850923130</td>\n",
       "      <td>864691128595615578</td>\n",
       "      <td>[107328, 34944, 6508]</td>\n",
       "    </tr>\n",
       "    <tr>\n",
       "      <th>3</th>\n",
       "      <td>5</td>\n",
       "      <td>2025-04-04 20:09:33.652081+00:00</td>\n",
       "      <td>NaN</td>\n",
       "      <td>t</td>\n",
       "      <td>99749</td>\n",
       "      <td>85853788530802689</td>\n",
       "      <td>864691128618482916</td>\n",
       "      <td>[100544, 29184, 6939]</td>\n",
       "    </tr>\n",
       "    <tr>\n",
       "      <th>4</th>\n",
       "      <td>6</td>\n",
       "      <td>2025-04-04 20:09:33.652724+00:00</td>\n",
       "      <td>NaN</td>\n",
       "      <td>t</td>\n",
       "      <td>33793</td>\n",
       "      <td>85643644236726345</td>\n",
       "      <td>864691128611440365</td>\n",
       "      <td>[98816, 36480, 6710]</td>\n",
       "    </tr>\n",
       "    <tr>\n",
       "      <th>5</th>\n",
       "      <td>7</td>\n",
       "      <td>2025-04-04 20:09:33.653370+00:00</td>\n",
       "      <td>NaN</td>\n",
       "      <td>t</td>\n",
       "      <td>2406</td>\n",
       "      <td>0</td>\n",
       "      <td>0</td>\n",
       "      <td>[92736, 33280, 7051]</td>\n",
       "    </tr>\n",
       "    <tr>\n",
       "      <th>6</th>\n",
       "      <td>8</td>\n",
       "      <td>2025-04-04 20:09:33.653992+00:00</td>\n",
       "      <td>NaN</td>\n",
       "      <td>t</td>\n",
       "      <td>151363</td>\n",
       "      <td>84869175935238144</td>\n",
       "      <td>864691128595769035</td>\n",
       "      <td>[93184, 33664, 7051]</td>\n",
       "    </tr>\n",
       "    <tr>\n",
       "      <th>7</th>\n",
       "      <td>9</td>\n",
       "      <td>2025-04-04 20:09:33.654759+00:00</td>\n",
       "      <td>NaN</td>\n",
       "      <td>t</td>\n",
       "      <td>3613</td>\n",
       "      <td>0</td>\n",
       "      <td>0</td>\n",
       "      <td>[112256, 35840, 6591]</td>\n",
       "    </tr>\n",
       "    <tr>\n",
       "      <th>8</th>\n",
       "      <td>10</td>\n",
       "      <td>2025-04-04 20:09:33.655378+00:00</td>\n",
       "      <td>NaN</td>\n",
       "      <td>t</td>\n",
       "      <td>41162</td>\n",
       "      <td>0</td>\n",
       "      <td>0</td>\n",
       "      <td>[94080, 34752, 7024]</td>\n",
       "    </tr>\n",
       "    <tr>\n",
       "      <th>9</th>\n",
       "      <td>11</td>\n",
       "      <td>2025-04-04 20:09:33.655993+00:00</td>\n",
       "      <td>NaN</td>\n",
       "      <td>t</td>\n",
       "      <td>21765</td>\n",
       "      <td>0</td>\n",
       "      <td>0</td>\n",
       "      <td>[99392, 30208, 6740]</td>\n",
       "    </tr>\n",
       "  </tbody>\n",
       "</table>\n",
       "</div>"
      ],
      "text/plain": [
       "   id                          created  superceded_id valid     tag  \\\n",
       "0   2 2025-04-04 20:09:33.650068+00:00            NaN     t   29371   \n",
       "1   3 2025-04-04 20:09:33.650790+00:00            NaN     t   18157   \n",
       "2   4 2025-04-04 20:09:33.651433+00:00            NaN     t   63875   \n",
       "3   5 2025-04-04 20:09:33.652081+00:00            NaN     t   99749   \n",
       "4   6 2025-04-04 20:09:33.652724+00:00            NaN     t   33793   \n",
       "5   7 2025-04-04 20:09:33.653370+00:00            NaN     t    2406   \n",
       "6   8 2025-04-04 20:09:33.653992+00:00            NaN     t  151363   \n",
       "7   9 2025-04-04 20:09:33.654759+00:00            NaN     t    3613   \n",
       "8  10 2025-04-04 20:09:33.655378+00:00            NaN     t   41162   \n",
       "9  11 2025-04-04 20:09:33.655993+00:00            NaN     t   21765   \n",
       "\n",
       "    pt_supervoxel_id          pt_root_id            pt_position  \n",
       "0                  0                   0  [113536, 28800, 6392]  \n",
       "1                  0                   0  [114560, 28544, 6389]  \n",
       "2  86769337850923130  864691128595615578  [107328, 34944, 6508]  \n",
       "3  85853788530802689  864691128618482916  [100544, 29184, 6939]  \n",
       "4  85643644236726345  864691128611440365   [98816, 36480, 6710]  \n",
       "5                  0                   0   [92736, 33280, 7051]  \n",
       "6  84869175935238144  864691128595769035   [93184, 33664, 7051]  \n",
       "7                  0                   0  [112256, 35840, 6591]  \n",
       "8                  0                   0   [94080, 34752, 7024]  \n",
       "9                  0                   0   [99392, 30208, 6740]  "
      ]
     },
     "execution_count": 16,
     "metadata": {},
     "output_type": "execute_result"
    }
   ],
   "source": [
    "# get head of the table\n",
    "client.materialize.query_table(table=\"soma_ids_locations\", \n",
    "                               limit=10)"
   ]
  },
  {
   "cell_type": "code",
   "execution_count": null,
   "id": "77be32a2",
   "metadata": {},
   "outputs": [
    {
     "data": {
      "text/html": [
       "<div>\n",
       "<style scoped>\n",
       "    .dataframe tbody tr th:only-of-type {\n",
       "        vertical-align: middle;\n",
       "    }\n",
       "\n",
       "    .dataframe tbody tr th {\n",
       "        vertical-align: top;\n",
       "    }\n",
       "\n",
       "    .dataframe thead th {\n",
       "        text-align: right;\n",
       "    }\n",
       "</style>\n",
       "<table border=\"1\" class=\"dataframe\">\n",
       "  <thead>\n",
       "    <tr style=\"text-align: right;\">\n",
       "      <th></th>\n",
       "      <th>id</th>\n",
       "      <th>created</th>\n",
       "      <th>superceded_id</th>\n",
       "      <th>valid</th>\n",
       "      <th>tag</th>\n",
       "      <th>pt_supervoxel_id</th>\n",
       "      <th>pt_root_id</th>\n",
       "      <th>pt_position</th>\n",
       "    </tr>\n",
       "  </thead>\n",
       "  <tbody>\n",
       "    <tr>\n",
       "      <th>0</th>\n",
       "      <td>4</td>\n",
       "      <td>2025-04-04 20:09:33.651433+00:00</td>\n",
       "      <td>NaN</td>\n",
       "      <td>t</td>\n",
       "      <td>63875</td>\n",
       "      <td>86769337850923130</td>\n",
       "      <td>864691128595615578</td>\n",
       "      <td>[107328, 34944, 6508]</td>\n",
       "    </tr>\n",
       "  </tbody>\n",
       "</table>\n",
       "</div>"
      ],
      "text/plain": [
       "   id                          created  superceded_id valid    tag  \\\n",
       "0   4 2025-04-04 20:09:33.651433+00:00            NaN     t  63875   \n",
       "\n",
       "    pt_supervoxel_id          pt_root_id            pt_position  \n",
       "0  86769337850923130  864691128595615578  [107328, 34944, 6508]  "
      ]
     },
     "execution_count": 17,
     "metadata": {},
     "output_type": "execute_result"
    }
   ],
   "source": [
    "# query soma by lores_id\n",
    "client.materialize.query_table(table=\"soma_ids_locations\",\n",
    "                                filter_equal_dict = {'tag': \"63875\"}) # tag is lores_id"
   ]
  }
 ],
 "metadata": {
  "kernelspec": {
   "display_name": "cave_py311",
   "language": "python",
   "name": "python3"
  },
  "language_info": {
   "codemirror_mode": {
    "name": "ipython",
    "version": 3
   },
   "file_extension": ".py",
   "mimetype": "text/x-python",
   "name": "python",
   "nbconvert_exporter": "python",
   "pygments_lexer": "ipython3",
   "version": "3.11.9"
  }
 },
 "nbformat": 4,
 "nbformat_minor": 5
}
