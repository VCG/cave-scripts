{
 "cells": [
  {
   "cell_type": "markdown",
   "id": "a11fa731",
   "metadata": {},
   "source": [
    "# CAVE Setup\n",
    "\n",
    "## !!! RUN THIS ONCE PER COMPUTER YOU ARE SETTING UP !!!\n",
    "\n",
    "The Connectome Annotation Versioning Engine (CAVE) supports several large scale EM datasets, and has an authentication system that regulates access to the webservices and datasets. In order to connect to the servers you have to authenticate to tell the server who you are.  \n",
    "\n",
    "When accessing the servers programatically this is done by passing a token that validates who you are.\n",
    "The server has a copy of this token, it's like a password, but the server makes it for you.\n",
    "\n",
    "You can tell the server to make a new token for you, erasing all previous tokens.\n",
    "\n",
    "You can tell the server to list the token it has for you.\n",
    "\n",
    "The token is a string of letters and numbers like \"ecc4casd1f70f254dwad452524bd0d0d8\" (but that one is made up)\n",
    "\n",
    "You need to save this token to a file on your computer, so that the caveclient can read it and pass it onto the server when interacting with it to tell it who you are. \n",
    "\n",
    "The CAVEclient has methods that help you do all these things, but note you might want to do different things depending on what you are trying to do.  This notebook will break down those scenarios and you can follow the one most appropriate to what you are trying to do.\n",
    "\n",
    "Reference: https://github.com/AllenInstitute/swdb_2022/blob/main/DynamicBrain/CAVEsetup.ipynb"
   ]
  },
  {
   "cell_type": "markdown",
   "id": "cd528f5a",
   "metadata": {},
   "source": [
    "### Scenario 1: Completely new user\n",
    "\n",
    "You have never interacted with CAVE before, you don't think you have an account, and have never setup a computer before with CAVE.\n",
    "\n",
    "In this case you want to.\n",
    "1. Please contact admin (h01-proofreading@g.harvard.edu) to create a new account. \n",
    "2. Create a new token\n",
    "3. Save the token to a file on your computer so caveclient can read it\n",
    "\n",
    "If this fits your use case, run the cells below"
   ]
  },
  {
   "cell_type": "code",
   "execution_count": 4,
   "id": "f3a9e4f5",
   "metadata": {},
   "outputs": [
    {
     "name": "stdout",
     "output_type": "stream",
     "text": [
      "New Tokens need to be acquired by hand. Please follow the following steps:\n",
      "                1) Go to: https://global.brain-wire-test.org//auth/api/v1/create_token to create a new token.\n",
      "                2) Log in with your Google credentials and copy the token shown afterward.\n",
      "                3a) Save it to your computer with: client.auth.save_token(token=\"PASTE_YOUR_TOKEN_HERE\")\n",
      "                or\n",
      "                3b) Set it for the current session only with client.auth.token = \"PASTE_YOUR_TOKEN_HERE\"\n",
      "                Note: If you need to save or load multiple tokens, please read the documentation for details.\n",
      "                Warning! Creating a new token by finishing step 2 will invalidate the previous token!\n"
     ]
    }
   ],
   "source": [
    "import caveclient\n",
    "url = \"https://global.brain-wire-test.org/\"\n",
    "auth = caveclient.auth.AuthClient(server_address=url)\n",
    "auth.setup_token(make_new=True)"
   ]
  },
  {
   "cell_type": "code",
   "execution_count": null,
   "id": "eababe5c",
   "metadata": {},
   "outputs": [],
   "source": [
    "# paste the token after token=\n",
    "auth.save_token(token=, overwrite=True)"
   ]
  },
  {
   "cell_type": "code",
   "execution_count": 5,
   "id": "cbfee527",
   "metadata": {},
   "outputs": [],
   "source": [
    "# That's it.. you should be all set. If you did it right this should work.\n",
    "client = caveclient.CAVEclient('h01_c3_flat')"
   ]
  },
  {
   "cell_type": "markdown",
   "id": "31597893",
   "metadata": {},
   "source": [
    "### Scenario 2: Existing user, new computer\n",
    "\n",
    "You setup CAVE before and its working well for you on say your laptop. You don't want to create a new token, because that would cause your laptop to stop working.\n",
    "\n",
    "In this case you want to.\n",
    "1. find your existing token (we'll send you to a website to login and it will list them)\n",
    "2. save that token to the new computer using client.auth.save_token"
   ]
  },
  {
   "cell_type": "code",
   "execution_count": 10,
   "id": "40b4cb91",
   "metadata": {},
   "outputs": [
    {
     "name": "stdout",
     "output_type": "stream",
     "text": [
      "Tokens need to be acquired by hand. Please follow the following steps:\n",
      "                1) Go to: https://global.brain-wire-test.org//auth/api/v1/user/token to view a list of your existing tokens.\n",
      "                2) Log in with your Google credentials copy one of the tokens from the dictionary (the string under the key 'token').\n",
      "                3a) Save it to your computer with: client.auth.save_token(token=\"PASTE_YOUR_TOKEN_HERE\")\n",
      "                or\n",
      "                3b) Set it for the current session only with client.auth.token = \"PASTE_YOUR_TOKEN_HERE\"\n",
      "                Note: If you need to save or load multiple tokens, please read the documentation for details.\n",
      "                if you want to create a new token, or have no token use ```self.get_new_token``` instead\n",
      "                or use this function with the keyword argument make_new=True\n"
     ]
    }
   ],
   "source": [
    "import caveclient\n",
    "url = \"https://global.brain-wire-test.org/\"\n",
    "auth = caveclient.auth.AuthClient(server_address=url)\n",
    "# this will take you to a webpage that will list your tokens\n",
    "# you want the string after the key 'token'\n",
    "auth.setup_token(make_new=False)"
   ]
  },
  {
   "cell_type": "code",
   "execution_count": 11,
   "id": "0b5774fb",
   "metadata": {},
   "outputs": [],
   "source": [
    "# paste the token string after token=\n",
    "auth.save_token(token=, overwrite=True)"
   ]
  },
  {
   "cell_type": "code",
   "execution_count": 12,
   "id": "a501c780",
   "metadata": {},
   "outputs": [],
   "source": [
    "# That's it.. you should be all set. If you did it right this should work.\n",
    "client = caveclient.CAVEclient('h01_c3_flat')"
   ]
  },
  {
   "cell_type": "markdown",
   "id": "36a9e445",
   "metadata": {},
   "source": [
    "### Scenario 3: Something is wrong\n",
    "\n",
    "You thought you setup CAVE, but now when you try to access a dataset, it tells you are not authorized.\n",
    "This is probably because you aren't using the right token. Here's how you see what your token is.\n"
   ]
  },
  {
   "cell_type": "code",
   "execution_count": null,
   "id": "3992b33e",
   "metadata": {
    "scrolled": true
   },
   "outputs": [],
   "source": [
    "client = caveclient.CAVEclient()\n",
    "client.auth.token"
   ]
  },
  {
   "cell_type": "markdown",
   "id": "96e60454",
   "metadata": {},
   "source": [
    "Compare that to what you find from following the first step in Scenario 2.  Probably you want to use scenario 2 to setup or re-setup this computer.  For example you might have done Scenario 1 on a second computer, or not copied the token correctly when trying to do Scenario 1. "
   ]
  },
  {
   "cell_type": "code",
   "execution_count": 8,
   "id": "d035db6e",
   "metadata": {},
   "outputs": [],
   "source": [
    "# You can run this to see if things are working now\n",
    "client = caveclient.CAVEclient('h01_c3_flat')"
   ]
  },
  {
   "cell_type": "code",
   "execution_count": null,
   "id": "92ada2a9",
   "metadata": {},
   "outputs": [],
   "source": []
  }
 ],
 "metadata": {
  "kernelspec": {
   "display_name": "Python 3 (ipykernel)",
   "language": "python",
   "name": "python3"
  },
  "language_info": {
   "codemirror_mode": {
    "name": "ipython",
    "version": 3
   },
   "file_extension": ".py",
   "mimetype": "text/x-python",
   "name": "python",
   "nbconvert_exporter": "python",
   "pygments_lexer": "ipython3",
   "version": "3.9.16"
  }
 },
 "nbformat": 4,
 "nbformat_minor": 5
}
