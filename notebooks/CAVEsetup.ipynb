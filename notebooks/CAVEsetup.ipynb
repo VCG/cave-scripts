{
 "cells": [
  {
   "cell_type": "code",
   "execution_count": 15,
   "id": "83497148",
   "metadata": {},
   "outputs": [],
   "source": [
    "import caveclient\n",
    "# this will take you to a webpage that will list your tokens\n",
    "# you want the string after the key 'token'\n",
    "url = \"https://global.brain-wire-test.org/\""
   ]
  },
  {
   "cell_type": "code",
   "execution_count": 18,
   "id": "d5af87c4",
   "metadata": {},
   "outputs": [],
   "source": [
    "auth = caveclient.auth.AuthClient(server_address=url)"
   ]
  },
  {
   "cell_type": "code",
   "execution_count": 19,
   "id": "dcd42ba9",
   "metadata": {},
   "outputs": [
    {
     "name": "stdout",
     "output_type": "stream",
     "text": [
      "Tokens need to be acquired by hand. Please follow the following steps:\n",
      "                1) Go to: https://global.brain-wire-test.org//auth/api/v1/user/token to view a list of your existing tokens.\n",
      "                2) Log in with your Google credentials copy one of the tokens from the dictionary (the string under the key 'token').\n",
      "                3a) Save it to your computer with: client.auth.save_token(token=\"PASTE_YOUR_TOKEN_HERE\")\n",
      "                or\n",
      "                3b) Set it for the current session only with client.auth.token = \"PASTE_YOUR_TOKEN_HERE\"\n",
      "                Note: If you need to save or load multiple tokens, please read the documentation for details.\n",
      "                if you want to create a new token, or have no token use ```self.get_new_token``` instead\n",
      "                or use this function with the keyword argument make_new=True\n"
     ]
    }
   ],
   "source": [
    "auth.setup_token(make_new=False)"
   ]
  },
  {
   "cell_type": "code",
   "execution_count": 20,
   "id": "f046c10d",
   "metadata": {},
   "outputs": [],
   "source": [
    "# paste the token string after token=\n",
    "auth.save_token(token=, overwrite=True)"
   ]
  },
  {
   "cell_type": "code",
   "execution_count": 21,
   "id": "c55e811d",
   "metadata": {},
   "outputs": [],
   "source": [
    "# That's it.. you should be all set. If you did it right this should work.\n",
    "client = caveclient.CAVEclient('h01_c3_flat')"
   ]
  },
  {
   "cell_type": "code",
   "execution_count": 23,
   "id": "983db4d1",
   "metadata": {},
   "outputs": [
    {
     "data": {
      "text/plain": [
       "['nucleus_table',\n",
       " 'nucleus_test_table2',\n",
       " 'nucleus_test_table',\n",
       " 'test_table',\n",
       " 'test_table2',\n",
       " 'dbcells_dump']"
      ]
     },
     "execution_count": 23,
     "metadata": {},
     "output_type": "execute_result"
    }
   ],
   "source": [
    "client.annotation.get_tables()"
   ]
  },
  {
   "cell_type": "code",
   "execution_count": null,
   "id": "46673259",
   "metadata": {},
   "outputs": [],
   "source": []
  }
 ],
 "metadata": {
  "kernelspec": {
   "display_name": "Python 3 (ipykernel)",
   "language": "python",
   "name": "python3"
  },
  "language_info": {
   "codemirror_mode": {
    "name": "ipython",
    "version": 3
   },
   "file_extension": ".py",
   "mimetype": "text/x-python",
   "name": "python",
   "nbconvert_exporter": "python",
   "pygments_lexer": "ipython3",
   "version": "3.11.3"
  }
 },
 "nbformat": 4,
 "nbformat_minor": 5
}
