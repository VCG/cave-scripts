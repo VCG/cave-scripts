{
 "cells": [
  {
   "cell_type": "code",
   "execution_count": 1,
   "metadata": {
    "id": "X1A9BoWNMjdT"
   },
   "outputs": [],
   "source": [
    "from caveclient import CAVEclient"
   ]
  },
  {
   "cell_type": "markdown",
   "metadata": {},
   "source": [
    "# List available annotation tables"
   ]
  },
  {
   "cell_type": "code",
   "execution_count": 2,
   "metadata": {
    "id": "9FjgR8bxPI2K"
   },
   "outputs": [],
   "source": [
    "url = \"https://global.brain-wire-test.org/\"\n",
    "\n",
    "# For H01\n",
    "# datastack = \"h01_c3_flat\"\n",
    "# voxel_resolution = [8, 8, 33]\n",
    "\n",
    "# For Fish1\n",
    "datastack = \"fish1_full\"\n",
    "voxel_resolution = [16, 16, 30]"
   ]
  },
  {
   "cell_type": "code",
   "execution_count": 5,
   "metadata": {},
   "outputs": [
    {
     "data": {
      "text/plain": [
       "{'aligned_volume': {'id': 4,\n",
       "  'name': 'fish1',\n",
       "  'display_name': None,\n",
       "  'description': 'aligned volume image stack of Fish1',\n",
       "  'image_source': 'precomputed://gs://fish1-public/clahe_231218'},\n",
       " 'segmentation_source': 'graphene://https://pcgv3local.brain-wire-test.org/segmentation/table/fish1_v250117',\n",
       " 'skeleton_source': 'precomputed://https://pcgv3local.brain-wire-test.org/skeletoncache/api/v1/fish1_full/precomputed/skeleton/',\n",
       " 'analysis_database': None,\n",
       " 'viewer_site': 'https://ngl.brain-wire.org/',\n",
       " 'synapse_table': 'synapses_axax',\n",
       " 'soma_table': None,\n",
       " 'local_server': 'https://pcgv3local.brain-wire-test.org',\n",
       " 'description': 'datastack with latest agglomeration (v250117)',\n",
       " 'viewer_resolution_x': 16.0,\n",
       " 'viewer_resolution_y': 16.0,\n",
       " 'viewer_resolution_z': 30.0,\n",
       " 'proofreading_status_table': None,\n",
       " 'cell_identification_table': None,\n",
       " 'proofreading_review_table': None}"
      ]
     },
     "execution_count": 5,
     "metadata": {},
     "output_type": "execute_result"
    }
   ],
   "source": [
    "client = CAVEclient(datastack_name=datastack, server_address=url)\n",
    "client.info.get_datastack_info()"
   ]
  },
  {
   "cell_type": "code",
   "execution_count": 4,
   "metadata": {
    "colab": {
     "base_uri": "https://localhost:8080/"
    },
    "id": "SZOWBNUQPL4M",
    "outputId": "0f74678e-205c-4b3b-b055-806d8d42f7cf"
   },
   "outputs": [
    {
     "data": {
      "text/plain": [
       "['synapses_axax', 'synapses_axde']"
      ]
     },
     "execution_count": 4,
     "metadata": {},
     "output_type": "execute_result"
    }
   ],
   "source": [
    "# get existing tables\n",
    "all_tables = client.annotation.get_tables()\n",
    "all_tables"
   ]
  },
  {
   "cell_type": "markdown",
   "metadata": {},
   "source": [
    "## Create a nucleus table\n",
    "To create a table a description and a table schema is required. A list of available schemas can be found [here](https://global.brain-wire-test.org/schema/views/). \n"
   ]
  },
  {
   "cell_type": "code",
   "execution_count": 16,
   "metadata": {
    "id": "Qu-2roASRZwi"
   },
   "outputs": [],
   "source": [
    "# create a new table\n",
    "table_name = \"nucleus_table\"\n",
    "description = \"\"\"\n",
    "This is a table that contains nucleus id, volume, position and bounding box's position.\n",
    "\n",
    "About Columns:\n",
    "- id: ID in the VAST segmentation file (for neurons/glia this should be consistent with the 'dbid' value in other tables)\n",
    "- volume: volume estimate of cell body or nucleus in cubic micrometers, at _very low resolution_ (mip6 every 128th section for neurons/glia, mip7 every 16th section for bv nuclei, manually painted)\n",
    "- pt_position: X,Y,Z anchor point within cell body or nucleus, in pixels at 8x8x33 nm\n",
    "- bb_start_position: Xmin,Ymin,Zmin of bounding box of cell body or nucleus, in pixels at 8x8x33 nm\n",
    "- bb_end_position: Xmax,Ymax,Zmax of bounding box of cell body or nucleus, in pixels at 8x8x33 nm\n",
    "The data in this table was compiled on May 16, 2023, by Daniel Berger.\n",
    "\n",
    "This table was create by Jinhan Choi.\n",
    "\"\"\"\n",
    "schema_name = \"nucleus_detection\""
   ]
  },
  {
   "cell_type": "code",
   "execution_count": null,
   "metadata": {
    "colab": {
     "base_uri": "https://localhost:8080/"
    },
    "id": "Kb3182KOPP5Q",
    "outputId": "571c608a-ea65-40fe-9c3e-e2539b06de62"
   },
   "outputs": [
    {
     "data": {
      "text/plain": [
       "<Response [200]>"
      ]
     },
     "execution_count": 17,
     "metadata": {},
     "output_type": "execute_result"
    }
   ],
   "source": [
    "client.annotation.create_table(table_name=table_name, \n",
    "                               schema_name=schema_name, \n",
    "                               description=description, \n",
    "                               voxel_resolution=voxel_resolution)"
   ]
  },
  {
   "cell_type": "markdown",
   "metadata": {},
   "source": [
    "## Create annotation table"
   ]
  },
  {
   "cell_type": "code",
   "execution_count": 18,
   "metadata": {
    "id": "SxM2NTsu5Epw"
   },
   "outputs": [],
   "source": [
    "# create a new table\n",
    "table_name = \"dbcells_dump\"\n",
    "description = \"\"\"\n",
    "This is a table that contains cell's position, types, and sub-types.\n",
    "\n",
    "About Columns:\n",
    "- pt_position: X,Y,Z anchor point within cell body or nucleus, in pixels at 8x8x33 nm\n",
    "- classification_system: comma-seperated string joined from 'dbsubcelltype', 'dbsubcelltype2', and 'dbsubcelltype3' \n",
    "- cell_type:  cell type (manually classified):\n",
    "% dbcelltypes are:\n",
    "%   0:  [U] unknown,\n",
    "%   1:  [P  pyramidal,\n",
    "%   2:  [I  interneuron,\n",
    "%   3:  [N  unclassified neuron,\n",
    "%   4:  [A] astrocyte,\n",
    "%   5:  [O] oligodendrocyte,\n",
    "%   6:  [G] mg/opc,\n",
    "%   7:  [C] 'c-shaped' cell (also mg/opc),\n",
    "%   8:  [B] blood vessel cell (does not occur in this list)\n",
    "%   9:  [S  Spiny stellate\n",
    "%   10: [E  Excitatory/spiny with atypical tree\n",
    "% Evelinas blood vessel nucleus types are:\n",
    "%   11: 'Pericytes'\n",
    "%   12: 'vSMC'\n",
    "%   13: 'fibroblast'\n",
    "%   14: 'perivascular lymphocytes'\n",
    "%   15: 'perivascular macrophages'\n",
    "%   16: 'undecided' (unspecified blood vessel cell)\n",
    "%   17: 'Endothelial cells'\n",
    "%   18: 'circulating imm'\n",
    "\n",
    "The data in this table was compiled on May 16, 2023. \n",
    "Source: console.cloud.google.com/bigquery?ws=!1m5!1m4!4m3!1slcht-goog-connectomics!2sgoog14r0seg1!3sdbcells\n",
    "\n",
    "This table was create by Jinhan Choi.\n",
    "\"\"\"\n",
    "schema_name = \"cell_type_local\""
   ]
  },
  {
   "cell_type": "code",
   "execution_count": 19,
   "metadata": {},
   "outputs": [
    {
     "data": {
      "text/plain": [
       "<Response [200]>"
      ]
     },
     "execution_count": 19,
     "metadata": {},
     "output_type": "execute_result"
    }
   ],
   "source": [
    "client.annotation.create_table(table_name=table_name, \n",
    "                               schema_name=schema_name, \n",
    "                               description=description, \n",
    "                               voxel_resolution=[8, 8, 33])"
   ]
  },
  {
   "cell_type": "code",
   "execution_count": 8,
   "metadata": {},
   "outputs": [
    {
     "data": {
      "text/plain": [
       "['cells', 'nucleus', 'synapses']"
      ]
     },
     "execution_count": 8,
     "metadata": {},
     "output_type": "execute_result"
    }
   ],
   "source": [
    "all_tables = client.annotation.get_tables()\n",
    "all_tables"
   ]
  }
 ],
 "metadata": {
  "colab": {
   "provenance": []
  },
  "kernelspec": {
   "display_name": "test",
   "language": "python",
   "name": "python3"
  },
  "language_info": {
   "codemirror_mode": {
    "name": "ipython",
    "version": 3
   },
   "file_extension": ".py",
   "mimetype": "text/x-python",
   "name": "python",
   "nbconvert_exporter": "python",
   "pygments_lexer": "ipython3",
   "version": "3.11.4"
  }
 },
 "nbformat": 4,
 "nbformat_minor": 1
}
