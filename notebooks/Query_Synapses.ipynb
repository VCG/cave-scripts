{
 "cells": [
  {
   "cell_type": "markdown",
   "id": "74af455f",
   "metadata": {},
   "source": [
    "## Query Synapses\n",
    "This notebook demonstrates how to query synapses while proofreading is ongoing in H01 CAVE. "
   ]
  },
  {
   "cell_type": "code",
   "execution_count": 46,
   "id": "d8596e91",
   "metadata": {},
   "outputs": [],
   "source": [
    "from caveclient import CAVEclient\n",
    "import datetime"
   ]
  },
  {
   "cell_type": "code",
   "execution_count": 47,
   "id": "60da4740",
   "metadata": {},
   "outputs": [],
   "source": [
    "url = \"https://global.brain-wire-test.org/\"\n",
    "datastack = \"h01_c3_flat\""
   ]
  },
  {
   "cell_type": "code",
   "execution_count": 48,
   "id": "ccdd89ab",
   "metadata": {},
   "outputs": [],
   "source": [
    "client = CAVEclient(datastack_name=datastack, server_address=url)"
   ]
  },
  {
   "cell_type": "code",
   "execution_count": 49,
   "id": "e68ab38d",
   "metadata": {},
   "outputs": [
    {
     "name": "stdout",
     "output_type": "stream",
     "text": [
      "Mat version:  429\n"
     ]
    }
   ],
   "source": [
    "client.materialize.get_versions()\n",
    "print(\"Mat version: \", client.materialize.version)"
   ]
  },
  {
   "cell_type": "markdown",
   "id": "a0b32152",
   "metadata": {},
   "source": [
    "### Query Materialized Synapse Table\n",
    "Querying the materialized synapse table leads to reproducable results since the table is a frozen snapshot in time. "
   ]
  },
  {
   "cell_type": "code",
   "execution_count": 50,
   "id": "ec1f598b",
   "metadata": {},
   "outputs": [
    {
     "name": "stdout",
     "output_type": "stream",
     "text": [
      "62\n"
     ]
    }
   ],
   "source": [
    "syn = client.materialize.synapse_query(\n",
    "    post_ids=[864691132192363248],\n",
    "    # pre_ids=[ADD YOUR ROOT ID],\n",
    ")\n",
    "syn.head()\n",
    "print(len(syn))"
   ]
  },
  {
   "cell_type": "markdown",
   "id": "7b43892a",
   "metadata": {},
   "source": [
    "### Live Synapse Queries\n",
    "As proofreading is ongoing, neuron IDs change. If you want to query the most recent or any historic data, you can use the live synapse queries."
   ]
  },
  {
   "cell_type": "code",
   "execution_count": 51,
   "id": "a2083761",
   "metadata": {},
   "outputs": [
    {
     "name": "stdout",
     "output_type": "stream",
     "text": [
      "[False]\n",
      "[864691132209940250]\n"
     ]
    }
   ],
   "source": [
    "# check of root ID is the most recent root ID\n",
    "root_id = 864691132192363248\n",
    "now = datetime.datetime.now(datetime.timezone.utc)\n",
    "is_latest = client.chunkedgraph.is_latest_roots([root_id], timestamp=now)\n",
    "latest_id = client.chunkedgraph.get_latest_roots(root_id, timestamp=now)\n",
    "print(is_latest) \n",
    "print(latest_id)"
   ]
  },
  {
   "cell_type": "code",
   "execution_count": 52,
   "id": "9d24d738",
   "metadata": {},
   "outputs": [
    {
     "name": "stdout",
     "output_type": "stream",
     "text": [
      "1328\n"
     ]
    }
   ],
   "source": [
    "synapse_table = client.info.get_datastack_info()['synapse_table']\n",
    "df=client.materialize.query_table(synapse_table,\n",
    "                                  timestamp = datetime.datetime.now(datetime.timezone.utc),\n",
    "                                  filter_equal_dict = {'post_pt_root_id': latest_id[0]})\n",
    "df.head()\n",
    "print(len(df))"
   ]
  }
 ],
 "metadata": {
  "kernelspec": {
   "display_name": "venv",
   "language": "python",
   "name": "python3"
  },
  "language_info": {
   "codemirror_mode": {
    "name": "ipython",
    "version": 3
   },
   "file_extension": ".py",
   "mimetype": "text/x-python",
   "name": "python",
   "nbconvert_exporter": "python",
   "pygments_lexer": "ipython3",
   "version": "3.9.18"
  }
 },
 "nbformat": 4,
 "nbformat_minor": 5
}
