{
 "cells": [
  {
   "cell_type": "markdown",
   "id": "74af455f",
   "metadata": {},
   "source": [
    "## Query Synapses\n",
    "This notebook demonstrates how to query synapses while proofreading is ongoing in H01 CAVE. "
   ]
  },
  {
   "cell_type": "code",
   "execution_count": 53,
   "id": "d8596e91",
   "metadata": {},
   "outputs": [],
   "source": [
    "from caveclient import CAVEclient\n",
    "import datetime"
   ]
  },
  {
   "cell_type": "code",
   "execution_count": 54,
   "id": "60da4740",
   "metadata": {},
   "outputs": [],
   "source": [
    "url = \"https://global.brain-wire-test.org/\"\n",
    "datastack = \"h01_c3_flat\""
   ]
  },
  {
   "cell_type": "code",
   "execution_count": 55,
   "id": "ccdd89ab",
   "metadata": {},
   "outputs": [],
   "source": [
    "client = CAVEclient(datastack_name=datastack, server_address=url)"
   ]
  },
  {
   "cell_type": "code",
   "execution_count": 61,
   "id": "e68ab38d",
   "metadata": {},
   "outputs": [
    {
     "name": "stdout",
     "output_type": "stream",
     "text": [
      "Mat version:  429\n"
     ]
    },
    {
     "data": {
      "text/plain": [
       "['cells',\n",
       " 'nucleus',\n",
       " 'synapses',\n",
       " 'proofreading_status_test',\n",
       " 'synapses_using_sample_voxel_coords']"
      ]
     },
     "execution_count": 61,
     "metadata": {},
     "output_type": "execute_result"
    }
   ],
   "source": [
    "client.materialize.get_versions()\n",
    "print(\"Mat version: \", client.materialize.version)\n",
    "client.materialize.get_tables()"
   ]
  },
  {
   "cell_type": "markdown",
   "id": "a0b32152",
   "metadata": {},
   "source": [
    "### Query Materialized Synapse Table\n",
    "Querying the materialized synapse table leads to reproducable results since the table is a frozen snapshot in time. "
   ]
  },
  {
   "cell_type": "code",
   "execution_count": 57,
   "id": "ec1f598b",
   "metadata": {},
   "outputs": [
    {
     "name": "stdout",
     "output_type": "stream",
     "text": [
      "62\n"
     ]
    }
   ],
   "source": [
    "syn = client.materialize.synapse_query(\n",
    "    post_ids=[864691132192363248],\n",
    "    # pre_ids=[ADD YOUR ROOT ID],\n",
    ")\n",
    "syn.head()\n",
    "print(len(syn))"
   ]
  },
  {
   "cell_type": "markdown",
   "id": "7b43892a",
   "metadata": {},
   "source": [
    "### Live Synapse Queries\n",
    "As proofreading is ongoing, neuron IDs change. If you want to query the most recent or any historic data, you can use the live synapse queries."
   ]
  },
  {
   "cell_type": "code",
   "execution_count": 58,
   "id": "a2083761",
   "metadata": {},
   "outputs": [
    {
     "name": "stdout",
     "output_type": "stream",
     "text": [
      "[False]\n",
      "[864691132209940250]\n"
     ]
    }
   ],
   "source": [
    "# check if root ID is the most recent root ID\n",
    "root_id = 864691132192363248\n",
    "now = datetime.datetime.now(datetime.timezone.utc)\n",
    "is_latest = client.chunkedgraph.is_latest_roots([root_id], timestamp=now)\n",
    "latest_id = client.chunkedgraph.get_latest_roots(root_id, timestamp=now)\n",
    "print(is_latest) \n",
    "print(latest_id)"
   ]
  },
  {
   "cell_type": "code",
   "execution_count": 60,
   "id": "9d24d738",
   "metadata": {},
   "outputs": [
    {
     "name": "stdout",
     "output_type": "stream",
     "text": [
      "1328\n"
     ]
    },
    {
     "data": {
      "text/html": [
       "<div>\n",
       "<style scoped>\n",
       "    .dataframe tbody tr th:only-of-type {\n",
       "        vertical-align: middle;\n",
       "    }\n",
       "\n",
       "    .dataframe tbody tr th {\n",
       "        vertical-align: top;\n",
       "    }\n",
       "\n",
       "    .dataframe thead th {\n",
       "        text-align: right;\n",
       "    }\n",
       "</style>\n",
       "<table border=\"1\" class=\"dataframe\">\n",
       "  <thead>\n",
       "    <tr style=\"text-align: right;\">\n",
       "      <th></th>\n",
       "      <th>id</th>\n",
       "      <th>created</th>\n",
       "      <th>superceded_id</th>\n",
       "      <th>valid</th>\n",
       "      <th>size</th>\n",
       "      <th>pre_pt_supervoxel_id</th>\n",
       "      <th>pre_pt_root_id</th>\n",
       "      <th>post_pt_supervoxel_id</th>\n",
       "      <th>post_pt_root_id</th>\n",
       "      <th>pre_pt_position</th>\n",
       "      <th>post_pt_position</th>\n",
       "      <th>ctr_pt_position</th>\n",
       "    </tr>\n",
       "  </thead>\n",
       "  <tbody>\n",
       "    <tr>\n",
       "      <th>0</th>\n",
       "      <td>16727926</td>\n",
       "      <td>2024-04-11 23:26:47.169193+00:00</td>\n",
       "      <td>NaN</td>\n",
       "      <td>t</td>\n",
       "      <td>NaN</td>\n",
       "      <td>117125064771502458</td>\n",
       "      <td>864691132224138235</td>\n",
       "      <td>123950283268031227</td>\n",
       "      <td>864691132209940250</td>\n",
       "      <td>[328058, 234952, 1800]</td>\n",
       "      <td>[377580, 230461, 2044]</td>\n",
       "      <td>[375758, 230749, 3693]</td>\n",
       "    </tr>\n",
       "    <tr>\n",
       "      <th>1</th>\n",
       "      <td>16652642</td>\n",
       "      <td>2024-04-11 23:26:45.003008+00:00</td>\n",
       "      <td>NaN</td>\n",
       "      <td>t</td>\n",
       "      <td>NaN</td>\n",
       "      <td>126203458209448033</td>\n",
       "      <td>864691132277433667</td>\n",
       "      <td>123950283268031227</td>\n",
       "      <td>864691132209940250</td>\n",
       "      <td>[394232, 240662, 3382]</td>\n",
       "      <td>[377580, 230461, 2044]</td>\n",
       "      <td>[395059, 238114, 4154]</td>\n",
       "    </tr>\n",
       "    <tr>\n",
       "      <th>2</th>\n",
       "      <td>16776808</td>\n",
       "      <td>2024-04-11 23:26:49.048049+00:00</td>\n",
       "      <td>NaN</td>\n",
       "      <td>t</td>\n",
       "      <td>NaN</td>\n",
       "      <td>126343989874917806</td>\n",
       "      <td>864691132241474911</td>\n",
       "      <td>123950283268031227</td>\n",
       "      <td>864691132209940250</td>\n",
       "      <td>[395066, 239458, 4019]</td>\n",
       "      <td>[377580, 230461, 2044]</td>\n",
       "      <td>[395004, 238224, 4171]</td>\n",
       "    </tr>\n",
       "    <tr>\n",
       "      <th>3</th>\n",
       "      <td>16659732</td>\n",
       "      <td>2024-04-11 23:26:45.261722+00:00</td>\n",
       "      <td>NaN</td>\n",
       "      <td>t</td>\n",
       "      <td>NaN</td>\n",
       "      <td>126343852570181971</td>\n",
       "      <td>864691131940376673</td>\n",
       "      <td>123950283268031227</td>\n",
       "      <td>864691132209940250</td>\n",
       "      <td>[395226, 238104, 4268]</td>\n",
       "      <td>[377580, 230461, 2044]</td>\n",
       "      <td>[395255, 238139, 4268]</td>\n",
       "    </tr>\n",
       "    <tr>\n",
       "      <th>4</th>\n",
       "      <td>16666429</td>\n",
       "      <td>2024-04-11 23:26:45.261722+00:00</td>\n",
       "      <td>NaN</td>\n",
       "      <td>t</td>\n",
       "      <td>NaN</td>\n",
       "      <td>126343852570181841</td>\n",
       "      <td>864691132016386177</td>\n",
       "      <td>123950283268031227</td>\n",
       "      <td>864691132209940250</td>\n",
       "      <td>[395199, 238122, 4257]</td>\n",
       "      <td>[377580, 230461, 2044]</td>\n",
       "      <td>[395195, 238216, 4246]</td>\n",
       "    </tr>\n",
       "  </tbody>\n",
       "</table>\n",
       "</div>"
      ],
      "text/plain": [
       "         id                          created  superceded_id valid  size  \\\n",
       "0  16727926 2024-04-11 23:26:47.169193+00:00            NaN     t   NaN   \n",
       "1  16652642 2024-04-11 23:26:45.003008+00:00            NaN     t   NaN   \n",
       "2  16776808 2024-04-11 23:26:49.048049+00:00            NaN     t   NaN   \n",
       "3  16659732 2024-04-11 23:26:45.261722+00:00            NaN     t   NaN   \n",
       "4  16666429 2024-04-11 23:26:45.261722+00:00            NaN     t   NaN   \n",
       "\n",
       "   pre_pt_supervoxel_id      pre_pt_root_id  post_pt_supervoxel_id  \\\n",
       "0    117125064771502458  864691132224138235     123950283268031227   \n",
       "1    126203458209448033  864691132277433667     123950283268031227   \n",
       "2    126343989874917806  864691132241474911     123950283268031227   \n",
       "3    126343852570181971  864691131940376673     123950283268031227   \n",
       "4    126343852570181841  864691132016386177     123950283268031227   \n",
       "\n",
       "      post_pt_root_id         pre_pt_position        post_pt_position  \\\n",
       "0  864691132209940250  [328058, 234952, 1800]  [377580, 230461, 2044]   \n",
       "1  864691132209940250  [394232, 240662, 3382]  [377580, 230461, 2044]   \n",
       "2  864691132209940250  [395066, 239458, 4019]  [377580, 230461, 2044]   \n",
       "3  864691132209940250  [395226, 238104, 4268]  [377580, 230461, 2044]   \n",
       "4  864691132209940250  [395199, 238122, 4257]  [377580, 230461, 2044]   \n",
       "\n",
       "          ctr_pt_position  \n",
       "0  [375758, 230749, 3693]  \n",
       "1  [395059, 238114, 4154]  \n",
       "2  [395004, 238224, 4171]  \n",
       "3  [395255, 238139, 4268]  \n",
       "4  [395195, 238216, 4246]  "
      ]
     },
     "execution_count": 60,
     "metadata": {},
     "output_type": "execute_result"
    }
   ],
   "source": [
    "synapse_table = client.info.get_datastack_info()['synapse_table']\n",
    "df=client.materialize.query_table(synapse_table,\n",
    "                                  timestamp = datetime.datetime.now(datetime.timezone.utc),\n",
    "                                  filter_equal_dict = {'post_pt_root_id': latest_id[0]})\n",
    "print(len(df))\n",
    "df.head()"
   ]
  },
  {
   "cell_type": "markdown",
   "id": "c031831c",
   "metadata": {},
   "source": [
    "### Disclaimer\n",
    "For the H01 dataset, `pre_pt_position` and `post_pt_position` in the `synapses_using_sample_voxel_coords` table are random locations sampled from the respective supervoxel. Thus, these positions are not entirely representative of the pre and post synaptic sites and we discurage using those positions if accurate positions are needed. If you have more questions or need clarifications, please open an issue in this repository."
   ]
  }
 ],
 "metadata": {
  "kernelspec": {
   "display_name": "venv",
   "language": "python",
   "name": "python3"
  },
  "language_info": {
   "codemirror_mode": {
    "name": "ipython",
    "version": 3
   },
   "file_extension": ".py",
   "mimetype": "text/x-python",
   "name": "python",
   "nbconvert_exporter": "python",
   "pygments_lexer": "ipython3",
   "version": "3.9.18"
  }
 },
 "nbformat": 4,
 "nbformat_minor": 5
}
