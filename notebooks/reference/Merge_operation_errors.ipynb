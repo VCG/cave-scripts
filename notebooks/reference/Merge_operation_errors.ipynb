{
 "cells": [
  {
   "cell_type": "code",
   "execution_count": 25,
   "metadata": {},
   "outputs": [],
   "source": [
    "from caveclient import CAVEclient, auth\n",
    "from caveclient import chunkedgraph as cg\n",
    "import gcsfs\n",
    "from google.cloud import storage\n",
    "import pandas as pd\n",
    "import numpy as np\n",
    "import time\n",
    "import json"
   ]
  },
  {
   "cell_type": "code",
   "execution_count": 26,
   "metadata": {},
   "outputs": [],
   "source": [
    "url = \"https://pcgv3local.brain-wire-test.org\"\n",
    "global_url = \"https://global.brain-wire-test.org/\"\n",
    "datastack = \"fish1_full\"\n",
    "dataset = \"fish_v241003_test\"\n",
    "resolution = [16, 16, 30]"
   ]
  },
  {
   "cell_type": "code",
   "execution_count": 27,
   "metadata": {},
   "outputs": [
    {
     "name": "stderr",
     "output_type": "stream",
     "text": [
      "Updated datastack-to-server cache — 'https://global.brain-wire-test.org/' will now be used by default for datastack 'fish1_full'\n"
     ]
    }
   ],
   "source": [
    "client = CAVEclient(datastack_name=datastack, server_address=global_url)\n",
    "cggraph = cg.ChunkedGraphClient(server_address=url, table_name=dataset, auth_client=auth.AuthClient(token=client.auth.token))\n",
    "cv = client.info.segmentation_cloudvolume()"
   ]
  },
  {
   "cell_type": "code",
   "execution_count": 28,
   "metadata": {},
   "outputs": [],
   "source": [
    "from pychunkedgraph.graph import ChunkedGraph"
   ]
  },
  {
   "cell_type": "code",
   "execution_count": 29,
   "metadata": {},
   "outputs": [],
   "source": [
    "pcg = ChunkedGraph(graph_id=dataset)"
   ]
  },
  {
   "cell_type": "code",
   "execution_count": 30,
   "metadata": {},
   "outputs": [
    {
     "data": {
      "text/plain": [
       "4980"
      ]
     },
     "execution_count": 30,
     "metadata": {},
     "output_type": "execute_result"
    }
   ],
   "source": [
    "pcg.client.get_max_operation_id()"
   ]
  },
  {
   "cell_type": "code",
   "execution_count": 6,
   "metadata": {},
   "outputs": [],
   "source": [
    "key_path = \"/root/.cloudvolume/secrets/fish1-pychunkedgraph-google-secret.json\"\n",
    "project_id = \"engert-goog-connectomics\"\n",
    "bucket_name = 'fish1-pychunkedgraph'\n",
    "folder_name = 'fish1-long-edges-merge-v241003'\n",
    "dest_bucket_name = \"fish1-long-edges-merge-v241003-errors\" # replace with your destination bucket name\n"
   ]
  },
  {
   "cell_type": "markdown",
   "metadata": {},
   "source": [
    "gsutil du gs://fish1-pychunkedgraph/fish1-long-edges-merge-v241003 | wc -l"
   ]
  },
  {
   "cell_type": "code",
   "execution_count": 7,
   "metadata": {},
   "outputs": [],
   "source": [
    "from google.cloud import storage\n",
    "from tqdm import tqdm\n",
    "\n",
    "def get_bucket_file_names():\n",
    "    client = storage.Client.from_service_account_json(key_path)\n",
    "    bucket = client.bucket(bucket_name)\n",
    "    blobs = client.list_blobs(bucket, prefix=folder_name)\n",
    "    \n",
    "    for blob in tqdm(blobs, desc=\"Processing blobs\"):\n",
    "        if \"_False.json\" in blob.name:\n",
    "            yield blob\n"
   ]
  },
  {
   "cell_type": "code",
   "execution_count": 32,
   "metadata": {},
   "outputs": [],
   "source": [
    "def get_latest_root_id(x, y, z):\n",
    "    supervoxel_id = cv.download_point(pt=(x, y, z), \n",
    "                                      size=1, \n",
    "                                      agglomerate=False, \n",
    "                                      coord_resolution=resolution)\n",
    "    supervoxel_id = np.int64(supervoxel_id[0, 0, 0, 0]) \n",
    "    root_id = cggraph.get_root_id(supervoxel_id)\n",
    "    # print(root_id, type(root_id))\n",
    "    # latest_root_id = cggraph.get_latest_roots(root_id)\n",
    "    # print(latest_root_id, type(latest_root_id))\n",
    "    \n",
    "    return root_id, supervoxel_id"
   ]
  },
  {
   "cell_type": "code",
   "execution_count": 31,
   "metadata": {},
   "outputs": [],
   "source": [
    "import json\n",
    "from caveclient.base import BaseEncoder, handle_response\n",
    "\n",
    "def custom_do_merge(supervoxels, coords, resolution=(4, 4, 40), params={\n",
    "        \"priority\": False,\n",
    "        \"chebyshev_distance\": 10\n",
    "    }) -> None:\n",
    "    \n",
    "    endpoint_mapping = cggraph.default_url_mapping\n",
    "    url = cggraph._endpoints[\"do_merge\"].format_map(endpoint_mapping)\n",
    "\n",
    "    data = []\n",
    "    for svid, coor in zip(supervoxels, coords):\n",
    "        pos = np.array(coor) * resolution\n",
    "        row = [svid, pos[0], pos[1], pos[2]]\n",
    "        data.append(row)\n",
    "    params = params\n",
    "    response = cggraph.session.post(\n",
    "        url,\n",
    "        data=json.dumps(data, cls=BaseEncoder),\n",
    "        params=params,\n",
    "        headers={\"Content-Type\": \"application/json\"},\n",
    "    )\n",
    "    handle_response(response)"
   ]
  },
  {
   "cell_type": "code",
   "execution_count": 8,
   "metadata": {},
   "outputs": [],
   "source": [
    "file_paths = get_bucket_file_names()"
   ]
  },
  {
   "cell_type": "code",
   "execution_count": 6,
   "metadata": {},
   "outputs": [
    {
     "data": {
      "text/plain": [
       "0"
      ]
     },
     "execution_count": 6,
     "metadata": {},
     "output_type": "execute_result"
    }
   ],
   "source": [
    "len(file_paths)"
   ]
  },
  {
   "cell_type": "code",
   "execution_count": 34,
   "metadata": {},
   "outputs": [],
   "source": [
    "data = {\n",
    "  \"did_merge\": False,\n",
    "  \"same_root_id\": False,\n",
    "  \"seg1_target_graph_sv_id\": 87613968067068050,\n",
    "  \"seg2_target_graph_sv_id\": 93665269360100690,\n",
    "  \"seg1_sv_id\": 15960395825,\n",
    "  \"seg2_sv_id\": 26734455752,\n",
    "  \"seg1_sv_id_loc\": [56667, 18263, 4820],\n",
    "  \"seg2_sv_id_loc\": [78659, 16884, 7831],\n",
    "  \"seg1_root\": 864691128684458000,\n",
    "  \"seg2_root\": 864691128583231900\n",
    "}"
   ]
  },
  {
   "cell_type": "code",
   "execution_count": 49,
   "metadata": {},
   "outputs": [],
   "source": [
    "data = {\n",
    "    \"seg1_root\": 864691128670960582,\n",
    "    \"seg1_target_graph_sv_id\": 78608004957604489, \n",
    "    \"seg1_sv_id\": 11141422389, \n",
    "    \"seg2_root\": 864691128580106831,\n",
    "    \"seg2_target_graph_sv_id\": 78678236329935211,\n",
    "    \"seg2_sv_id\": 11182284222,\n",
    "    \"seg1_sv_id_loc\": [23824, 23011, 3284],\n",
    "    \"seg2_sv_id_loc\": [24263, 22418, 3334]\n",
    "}"
   ]
  },
  {
   "cell_type": "code",
   "execution_count": 51,
   "metadata": {},
   "outputs": [
    {
     "name": "stderr",
     "output_type": "stream",
     "text": [
      "Decompressing: 100%|██████████| 1/1 [00:00<00:00, 921.42it/s]\n",
      "Decompressing: 100%|██████████| 1/1 [00:00<00:00, 1498.50it/s]"
     ]
    },
    {
     "name": "stdout",
     "output_type": "stream",
     "text": [
      "864691128663162995 864691128580106831\n",
      "78608004957604489 78678236329935211\n"
     ]
    },
    {
     "name": "stderr",
     "output_type": "stream",
     "text": [
      "\n"
     ]
    }
   ],
   "source": [
    "seg1_id = data['seg1_sv_id'] \n",
    "seg2_id = data['seg2_sv_id']\n",
    "seg1_x, seg1_y, seg1_z = data['seg1_sv_id_loc']\n",
    "seg2_x, seg2_y, seg2_z = data['seg2_sv_id_loc']\n",
    "seg1_root_id, seg1_supervoxel_id = get_latest_root_id(seg1_x, seg1_y, seg1_z)\n",
    "seg2_root_id, seg2_supervoxel_id = get_latest_root_id(seg2_x, seg2_y, seg2_z)\n",
    "print(seg1_root_id, seg2_root_id)\n",
    "print(seg1_supervoxel_id, seg2_supervoxel_id)\n"
   ]
  },
  {
   "cell_type": "code",
   "execution_count": 47,
   "metadata": {},
   "outputs": [
    {
     "name": "stderr",
     "output_type": "stream",
     "text": [
      "Decompressing: 100%|██████████| 1/1 [00:00<00:00, 186.88it/s]\n",
      "Decompressing: 100%|██████████| 1/1 [00:00<00:00, 1579.78it/s]"
     ]
    },
    {
     "name": "stdout",
     "output_type": "stream",
     "text": [
      "864691128680989822 864691128680989822\n",
      "87613968067068048 93665269360100686\n"
     ]
    },
    {
     "name": "stderr",
     "output_type": "stream",
     "text": [
      "\n"
     ]
    }
   ],
   "source": [
    "seg1_id = data['seg1_sv_id'] \n",
    "seg2_id = data['seg2_sv_id']\n",
    "seg1_x, seg1_y, seg1_z = data['seg1_sv_id_loc']\n",
    "seg2_x, seg2_y, seg2_z = data['seg2_sv_id_loc']\n",
    "seg1_root_id, seg1_supervoxel_id = get_latest_root_id(seg1_x, seg1_y, seg1_z)\n",
    "seg2_root_id, seg2_supervoxel_id = get_latest_root_id(seg2_x, seg2_y, seg2_z)\n",
    "print(seg1_root_id, seg2_root_id)\n",
    "print(seg1_supervoxel_id, seg2_supervoxel_id)\n"
   ]
  },
  {
   "cell_type": "code",
   "execution_count": 52,
   "metadata": {},
   "outputs": [
    {
     "data": {
      "text/plain": [
       "4983"
      ]
     },
     "execution_count": 52,
     "metadata": {},
     "output_type": "execute_result"
    }
   ],
   "source": [
    "pcg.client.get_max_operation_id()"
   ]
  },
  {
   "cell_type": "code",
   "execution_count": 54,
   "metadata": {},
   "outputs": [
    {
     "data": {
      "text/plain": [
       "{'4980': {'added_edges': [[81842698171973649, 81912036459545846]],\n",
       "  'operation_exception': '',\n",
       "  'operation_status': 0,\n",
       "  'operation_ts': '2024-12-19 03:35:59.107000+00:00',\n",
       "  'roots': [864691128676176554],\n",
       "  'sink_coords': [[35958, 10564, 1533]],\n",
       "  'source_coords': [[35595, 14385, 832]],\n",
       "  'timestamp': '2024-12-19 03:35:59.107000+00:00',\n",
       "  'user': '31'},\n",
       " '4981': {'added_edges': [[87613968067068048, 93665269360100686]],\n",
       "  'operation_exception': '',\n",
       "  'operation_status': 0,\n",
       "  'operation_ts': '2025-01-07 13:50:30.866000+00:00',\n",
       "  'roots': [864691128680989822],\n",
       "  'sink_coords': [[78659, 16884, 7831]],\n",
       "  'source_coords': [[56667, 18263, 4820]],\n",
       "  'timestamp': '2025-01-07 13:50:30.866000+00:00',\n",
       "  'user': '31'}}"
      ]
     },
     "execution_count": 54,
     "metadata": {},
     "output_type": "execute_result"
    }
   ],
   "source": [
    "cggraph.get_operation_details([4980,4981])"
   ]
  },
  {
   "cell_type": "code",
   "execution_count": 53,
   "metadata": {},
   "outputs": [
    {
     "data": {
      "text/plain": [
       "{'4982': {'added_edges': [[87613968067068048, 93665269360100686]],\n",
       "  'operation_exception': '',\n",
       "  'operation_status': 1,\n",
       "  'operation_ts': '2025-01-07 13:56:49.329000+00:00',\n",
       "  'roots': [],\n",
       "  'sink_coords': [[78659, 16884, 7831]],\n",
       "  'source_coords': [[56667, 18263, 4820]],\n",
       "  'timestamp': '2025-01-07 13:56:49.329000+00:00',\n",
       "  'user': '31'},\n",
       " '4983': {'added_edges': [[87613968067068048, 93665269360100686]],\n",
       "  'operation_exception': '',\n",
       "  'operation_status': 1,\n",
       "  'operation_ts': '2025-01-07 13:58:10.862000+00:00',\n",
       "  'roots': [],\n",
       "  'sink_coords': [[78659, 16884, 7831]],\n",
       "  'source_coords': [[56667, 18263, 4820]],\n",
       "  'timestamp': '2025-01-07 13:58:10.862000+00:00',\n",
       "  'user': '31'}}"
      ]
     },
     "execution_count": 53,
     "metadata": {},
     "output_type": "execute_result"
    }
   ],
   "source": [
    "cggraph.get_operation_details([4982, 4983])"
   ]
  }
 ],
 "metadata": {
  "kernelspec": {
   "display_name": "Python 3",
   "language": "python",
   "name": "python3"
  },
  "language_info": {
   "codemirror_mode": {
    "name": "ipython",
    "version": 3
   },
   "file_extension": ".py",
   "mimetype": "text/x-python",
   "name": "python",
   "nbconvert_exporter": "python",
   "pygments_lexer": "ipython3",
   "version": "3.11.4"
  }
 },
 "nbformat": 4,
 "nbformat_minor": 2
}
