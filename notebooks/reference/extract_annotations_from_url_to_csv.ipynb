{
 "cells": [
  {
   "cell_type": "code",
   "execution_count": 19,
   "metadata": {},
   "outputs": [],
   "source": [
    "import json\n",
    "import urllib\n",
    "import pandas as pd"
   ]
  },
  {
   "cell_type": "code",
   "execution_count": 22,
   "metadata": {},
   "outputs": [
    {
     "name": "stdout",
     "output_type": "stream",
     "text": [
      "{'layer_name': 'annotation', 'type': 'line', 'point': ([257872.09375, 177939.875, 2646.5], [257974.09375, 178158.875, 2646.5])}\n",
      "{'layer_name': 'annotation', 'type': 'ellipsoid', 'point': ([257797.46875, 178220.9375, 2646.5], [58, 75, 0])}\n"
     ]
    }
   ],
   "source": [
    "url = \"paste neuroglancer url here, do not copy from share button\"\n",
    "csv_file_path = \"annotations.csv\"\n",
    "\n",
    "url_encoded_json = url.split('#')[-1]\n",
    "json_data = json.loads(urllib.parse.unquote(url_encoded_json[1:]))\n",
    "\n",
    "annotations = []\n",
    "for layer in json_data[\"layers\"]:\n",
    "    if layer[\"type\"] == \"annotation\":\n",
    "        layer_name = layer['name']\n",
    "        \n",
    "        for annotation in layer[\"annotations\"]:\n",
    "            annotation_type = annotation.get(\"type\")\n",
    "            # annotation_id = annotation.get(\"id\")\n",
    "            point = annotation.get(\"point\")\n",
    "            pointA = annotation.get(\"pointA\")\n",
    "            pointB = annotation.get(\"pointB\")\n",
    "            center = annotation.get(\"center\")\n",
    "            radii = annotation.get(\"radii\")\n",
    "\n",
    "            if point:\n",
    "                annotations.append({\n",
    "                    \"layer_name\": layer_name,\n",
    "                    # \"id\": annotation_id,\n",
    "                    \"type\": annotation_type,\n",
    "                    \"point\": point\n",
    "                })\n",
    "            elif pointA and pointB:\n",
    "                annotations.append({\n",
    "                    \"layer_name\": layer_name,\n",
    "                    # \"id\": annotation_id,\n",
    "                    \"type\": annotation_type,\n",
    "                    \"point\": (pointA, pointB)  # Store both points for AABB\n",
    "                })\n",
    "            elif annotation_type == 'line' and pointA and pointB:\n",
    "                annotations.append({\n",
    "                    \"layer_name\": layer_name,\n",
    "                    # \"id\": annotation_id,\n",
    "                    \"type\": annotation_type,\n",
    "                    \"point\": (pointA, pointB)\n",
    "                })\n",
    "            elif annotation_type == 'ellipsoid' and center and radii:\n",
    "                annotations.append({\n",
    "                    \"layer_name\": layer_name,\n",
    "                    # \"id\": annotation_id,\n",
    "                    \"type\": annotation_type,\n",
    "                    \"point\": (center, radii) #Ellipsoid centered at center with radii\n",
    "                })\n",
    "\n",
    "# Display extracted annotations\n",
    "for annotation in annotations:\n",
    "    print(annotation)\n",
    "\n",
    "# Create a DataFrame from the annotations\n",
    "annotations_df = pd.DataFrame(annotations)\n",
    "\n",
    "# Format points for better readability in CSV\n",
    "annotations_df[\"point\"] = annotations_df[\"point\"].apply(lambda x: ', '.join(map(str, x)) if isinstance(x, list) else f\"{x[0][0]}, {x[0][1]}, {x[0][2]} - {x[1][0]}, {x[1][1]}, {x[1][2]}\")\n",
    "\n",
    "# Export to CSV\n",
    "annotations_df.to_csv(csv_file_path, index=False)"
   ]
  },
  {
   "cell_type": "code",
   "execution_count": 23,
   "metadata": {},
   "outputs": [
    {
     "data": {
      "text/html": [
       "<div>\n",
       "<style scoped>\n",
       "    .dataframe tbody tr th:only-of-type {\n",
       "        vertical-align: middle;\n",
       "    }\n",
       "\n",
       "    .dataframe tbody tr th {\n",
       "        vertical-align: top;\n",
       "    }\n",
       "\n",
       "    .dataframe thead th {\n",
       "        text-align: right;\n",
       "    }\n",
       "</style>\n",
       "<table border=\"1\" class=\"dataframe\">\n",
       "  <thead>\n",
       "    <tr style=\"text-align: right;\">\n",
       "      <th></th>\n",
       "      <th>layer_name</th>\n",
       "      <th>type</th>\n",
       "      <th>point</th>\n",
       "    </tr>\n",
       "  </thead>\n",
       "  <tbody>\n",
       "    <tr>\n",
       "      <th>0</th>\n",
       "      <td>annotation</td>\n",
       "      <td>line</td>\n",
       "      <td>257872.09375, 177939.875, 2646.5 - 257974.0937...</td>\n",
       "    </tr>\n",
       "    <tr>\n",
       "      <th>1</th>\n",
       "      <td>annotation</td>\n",
       "      <td>ellipsoid</td>\n",
       "      <td>257797.46875, 178220.9375, 2646.5 - 58, 75, 0</td>\n",
       "    </tr>\n",
       "  </tbody>\n",
       "</table>\n",
       "</div>"
      ],
      "text/plain": [
       "   layer_name       type                                              point\n",
       "0  annotation       line  257872.09375, 177939.875, 2646.5 - 257974.0937...\n",
       "1  annotation  ellipsoid      257797.46875, 178220.9375, 2646.5 - 58, 75, 0"
      ]
     },
     "execution_count": 23,
     "metadata": {},
     "output_type": "execute_result"
    }
   ],
   "source": [
    "annotations_df"
   ]
  },
  {
   "cell_type": "code",
   "execution_count": null,
   "metadata": {},
   "outputs": [],
   "source": []
  }
 ],
 "metadata": {
  "kernelspec": {
   "display_name": "Python 3",
   "language": "python",
   "name": "python3"
  },
  "language_info": {
   "codemirror_mode": {
    "name": "ipython",
    "version": 3
   },
   "file_extension": ".py",
   "mimetype": "text/x-python",
   "name": "python",
   "nbconvert_exporter": "python",
   "pygments_lexer": "ipython3",
   "version": "3.11.4"
  }
 },
 "nbformat": 4,
 "nbformat_minor": 2
}
